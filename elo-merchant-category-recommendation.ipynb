{
 "cells": [
  {
   "cell_type": "code",
   "metadata": {
    "execution": {
     "iopub.execute_input": "2023-08-24T08:56:55.467159Z",
     "iopub.status.busy": "2023-08-24T08:56:55.466725Z",
     "iopub.status.idle": "2023-08-24T08:56:57.417105Z",
     "shell.execute_reply": "2023-08-24T08:56:57.416031Z",
     "shell.execute_reply.started": "2023-08-24T08:56:55.467124Z"
    },
    "trusted": true,
    "ExecuteTime": {
     "end_time": "2024-04-25T10:13:32.436529Z",
     "start_time": "2024-04-25T10:13:32.234129Z"
    }
   },
   "source": [
    "import numpy as np \n",
    "import pandas as pd \n",
    "import matplotlib.pyplot as plt\n",
    "import seaborn as sns\n",
    "from tqdm import tqdm,tqdm_notebook \n",
    "import lightgbm as lgb\n",
    "\n",
    "from sklearn.model_selection import KFold\n",
    "from scipy import sparse\n",
    "import warnings\n",
    "import time\n",
    "import sys\n",
    "import os\n",
    "import gc\n",
    "import datetime\n",
    "\n",
    "from sklearn.metrics import mean_squared_error\n",
    "from sklearn.metrics import log_loss\n",
    "\n",
    "warnings.simplefilter(action='ignore', category=FutureWarning)\n",
    "warnings.filterwarnings(\"ignore\")\n",
    "pd.set_option('display.max_columns',None)\n",
    "pd.set_option('max_colwidth',100)\n",
    "\n",
    "def reduce_mem_usage(df, verbose=True):\n",
    "    numerics = ['int16', 'int32', 'int64', 'float16', 'float32', 'float64']\n",
    "    start_mem = df.memory_usage().sum() / 1024**2    \n",
    "    for col in df.columns:\n",
    "        col_type = df[col].dtypes\n",
    "        if col_type in numerics:\n",
    "            c_min = df[col].min()\n",
    "            c_max = df[col].max()\n",
    "            if str(col_type)[:3] == 'int':\n",
    "                if c_min > np.iinfo(np.int8).min and c_max < np.iinfo(np.int8).max:\n",
    "                    df[col] = df[col].astype(np.int8)\n",
    "                elif c_min > np.iinfo(np.int16).min and c_max < np.iinfo(np.int16).max:\n",
    "                    df[col] = df[col].astype(np.int16)\n",
    "                elif c_min > np.iinfo(np.int32).min and c_max < np.iinfo(np.int32).max:\n",
    "                    df[col] = df[col].astype(np.int32)\n",
    "                elif c_min > np.iinfo(np.int64).min and c_max < np.iinfo(np.int64).max:\n",
    "                    df[col] = df[col].astype(np.int64)  \n",
    "            else:\n",
    "                if c_min > np.finfo(np.float16).min and c_max < np.finfo(np.float16).max:\n",
    "                    df[col] = df[col].astype(np.float16)\n",
    "                elif c_min > np.finfo(np.float32).min and c_max < np.finfo(np.float32).max:\n",
    "                    df[col] = df[col].astype(np.float32)\n",
    "                else:\n",
    "                    df[col] = df[col].astype(np.float64)    \n",
    "    end_mem = df.memory_usage().sum() / 1024**2\n",
    "    if verbose: print('Mem. usage decreased to {:5.2f} Mb ({:.1f}% reduction)'.format(end_mem, 100 * (start_mem - end_mem) / start_mem))\n",
    "    return df"
   ],
   "outputs": [],
   "execution_count": 1
  },
  {
   "cell_type": "code",
   "metadata": {
    "ExecuteTime": {
     "end_time": "2024-04-25T10:13:51.714086Z",
     "start_time": "2024-04-25T10:13:32.437752Z"
    }
   },
   "source": [
    "train = pd.read_csv(\"train_cleaned.csv\")\n",
    "test =pd.read_csv(\"test_cleaned.csv\")\n",
    "\n",
    "del_cols = []\n",
    "for col in train.columns:\n",
    "    if 'subsector_id_cnt_' in col and 'new_cardf': \n",
    "        del_cols.append(col)\n",
    "del_cols1 = []\n",
    "for col in train.columns:\n",
    "    if 'subsector_id_cnt_' in col and 'hist_last2_' in col:\n",
    "        del_cols1.append(col)\n",
    "del_cols2 = []\n",
    "for col in train.columns:\n",
    "    if 'subsector_id_cnt_' in col and 'auth_cardf' in col:\n",
    "        del_cols2.append(col)\n",
    "del_cols3 = []\n",
    "for col in train.columns:\n",
    "    if 'merchant_category_id_month_lag_nunique_' in col and '_pivot_supp' in col:\n",
    "        del_cols3.append(col)\n",
    "    if 'city_id' in col and '_pivot_supp' in col:\n",
    "        del_cols3.append(col)\n",
    "    if 'month_diff' in col and 'hist_last2_' in col:\n",
    "        del_cols3.append(col)\n",
    "    if 'month_diff_std' in col or 'month_diff_gap' in col:\n",
    "        del_cols3.append(col) \n",
    "fea_cols = [col for col in train.columns if train[col].dtypes!='object' and train[col].dtypes != '<M8[ns]' and col!='target' not in col and col!='min_num'\\\n",
    "            and col not in del_cols and col not in del_cols1 and col not in del_cols2 and col!='target1' and col!='card_id_cnt_ht_pivot_supp'  and col not in del_cols3] \n",
    "\n",
    "train = train[fea_cols+['target']+['card_id']]\n",
    "fea_cols.remove('outliers')\n",
    "test = test[fea_cols+['card_id']]\n",
    "\n",
    "inf_cols = ['new_cardf_card_id_cnt_divide_installments_nunique', 'hist_last2_card_id_cnt_divide_installments_nunique']\n",
    "train[inf_cols] = train[inf_cols].replace(np.inf, train[inf_cols].replace(np.inf, -99).max().max())\n",
    "\n",
    "test[inf_cols] = test[inf_cols].replace(np.inf, test[inf_cols].replace(np.inf, -99).max().max())\n",
    "\n",
    "# ## load sparse\n",
    "# train_tags = sparse.load_npz('train_tags.npz')\n",
    "# test_tags  = sparse.load_npz('test_tags.npz')\n",
    "\n",
    "## Get the index of non-exceptional values\n",
    "normal_index = train[train['outliers']==0].index.tolist()\n",
    "## without outliers\n",
    "ntrain = train[train['outliers'] == 0]\n",
    "\n",
    "target        = train['target'].values\n",
    "ntarget       = ntrain['target'].values\n",
    "target_binary = train['outliers'].values\n",
    "###\n",
    "y_train        = target\n",
    "y_ntrain       = ntarget\n",
    "y_train_binary = target_binary\n",
    "\n",
    "id_train = train['card_id'].copy(); train.drop('card_id', axis = 1, inplace = True)\n",
    "id_ntrain = ntrain['card_id'].copy(); ntrain.drop('card_id', axis = 1, inplace = True)\n",
    "id_test = test['card_id'].copy(); test.drop('card_id', axis = 1, inplace = True)\n",
    "\n",
    "print('train:',train.shape)\n",
    "print('ntrain:',ntrain.shape)"
   ],
   "outputs": [
    {
     "name": "stdout",
     "output_type": "stream",
     "text": [
      "train: (201917, 647)\n",
      "ntrain: (199710, 647)\n"
     ]
    }
   ],
   "execution_count": 2
  },
  {
   "cell_type": "code",
   "metadata": {
    "execution": {
     "iopub.execute_input": "2023-08-24T08:57:40.168772Z",
     "iopub.status.busy": "2023-08-24T08:57:40.168352Z",
     "iopub.status.idle": "2023-08-24T08:57:40.193073Z",
     "shell.execute_reply": "2023-08-24T08:57:40.190313Z",
     "shell.execute_reply.started": "2023-08-24T08:57:40.168738Z"
    },
    "trusted": true,
    "ExecuteTime": {
     "end_time": "2024-04-25T10:13:51.719731Z",
     "start_time": "2024-04-25T10:13:51.715113Z"
    }
   },
   "source": [
    "def train_model(X, X_test, y, params, folds, model_type='lgb', eval_type='regression'):\n",
    "    oof = np.zeros(X.shape[0])\n",
    "    predictions = np.zeros(X_test.shape[0])\n",
    "    scores = []\n",
    "    for fold_n, (trn_idx, val_idx) in enumerate(folds.split(X, y)):\n",
    "        print('Fold', fold_n, 'started at', time.ctime())\n",
    "        \n",
    "        if model_type == 'lgb':\n",
    "            trn_data = lgb.Dataset(X[trn_idx], y[trn_idx])\n",
    "            val_data = lgb.Dataset(X[val_idx], y[val_idx])\n",
    "            clf = lgb.train(params, trn_data, num_boost_round=20000, \n",
    "                            valid_sets=[trn_data, val_data], \n",
    "                            callbacks=[lgb.early_stopping(stopping_rounds=500), lgb.log_evaluation(200)])\n",
    "            oof[val_idx] = clf.predict(X[val_idx], num_iteration=clf.best_iteration)\n",
    "            predictions += clf.predict(X_test, num_iteration=clf.best_iteration) / folds.n_splits\n",
    "        print(predictions)\n",
    "\n",
    "        if eval_type == 'regression':\n",
    "            scores.append(mean_squared_error(oof[val_idx], y[val_idx])**0.5)\n",
    "        if eval_type == 'binary':\n",
    "            scores.append(log_loss(y[val_idx], oof[val_idx]))\n",
    "        \n",
    "    print('CV mean score: {0:.4f}, std: {1:.4f}.'.format(np.mean(scores), np.std(scores)))\n",
    "    \n",
    "    return oof, predictions, scores"
   ],
   "outputs": [],
   "execution_count": 3
  },
  {
   "cell_type": "code",
   "metadata": {
    "execution": {
     "iopub.execute_input": "2023-08-24T08:58:10.610017Z",
     "iopub.status.busy": "2023-08-24T08:58:10.609582Z",
     "iopub.status.idle": "2023-08-24T09:38:22.232003Z",
     "shell.execute_reply": "2023-08-24T09:38:22.23089Z",
     "shell.execute_reply.started": "2023-08-24T08:58:10.609966Z"
    },
    "trusted": true,
    "ExecuteTime": {
     "end_time": "2024-04-25T10:15:55.615218Z",
     "start_time": "2024-04-25T10:13:51.720910Z"
    }
   },
   "source": [
    "#### lgb\n",
    "lgb_params = {'num_leaves': 64,\n",
    "             'min_data_in_leaf': 32, \n",
    "             'objective':'regression',\n",
    "             'max_depth': -1,\n",
    "             'learning_rate': 0.01,\n",
    "             \"min_child_samples\": 20,\n",
    "             \"boosting\": \"gbdt\",\n",
    "             \"feature_fraction\": 0.5,\n",
    "             \"bagging_freq\": 1,\n",
    "             \"bagging_fraction\": 0.9,\n",
    "             \"bagging_seed\": 11,\n",
    "             \"metric\": 'rmse',\n",
    "             \"lambda_l1\": 0.1,\n",
    "             \"verbosity\": -1}\n",
    "folds = KFold(n_splits=2, shuffle=True, random_state=42)\n",
    "X_ntrain = ntrain[fea_cols].values\n",
    "X_train  = train[fea_cols].values\n",
    "X_test   = test[fea_cols].values\n",
    "print('='*10,'Regression Models','='*10)\n",
    "oof_lgb , predictions_lgb , scores_lgb  = train_model(X_train , X_test, y_train, params=lgb_params, folds=folds, model_type='lgb', eval_type='regression')\n",
    "predictions_lgb_df = pd.DataFrame({'card_id': id_test.to_list(), 'prediction': predictions_lgb})\n"
   ],
   "outputs": [
    {
     "name": "stdout",
     "output_type": "stream",
     "text": [
      "========== Regression Models ==========\n",
      "Fold 0 started at Thu Apr 25 18:13:53 2024\n",
      "Training until validation scores don't improve for 500 rounds\n",
      "[200]\ttraining's rmse: 3.32844\tvalid_1's rmse: 3.6968\n",
      "[400]\ttraining's rmse: 3.13264\tvalid_1's rmse: 3.68059\n",
      "[600]\ttraining's rmse: 3.00495\tvalid_1's rmse: 3.67797\n",
      "[800]\ttraining's rmse: 2.90065\tvalid_1's rmse: 3.67806\n",
      "[1000]\ttraining's rmse: 2.81152\tvalid_1's rmse: 3.67871\n",
      "[1200]\ttraining's rmse: 2.72918\tvalid_1's rmse: 3.67991\n",
      "Early stopping, best iteration is:\n",
      "[721]\ttraining's rmse: 2.93927\tvalid_1's rmse: 3.67768\n",
      "[-0.7612198  -0.22311361 -0.405374   ...  0.333631   -1.44950372\n",
      "  0.08461484]\n",
      "Fold 1 started at Thu Apr 25 18:14:55 2024\n",
      "Training until validation scores don't improve for 500 rounds\n",
      "[200]\ttraining's rmse: 3.38587\tvalid_1's rmse: 3.63928\n",
      "[400]\ttraining's rmse: 3.19065\tvalid_1's rmse: 3.62474\n",
      "[600]\ttraining's rmse: 3.05876\tvalid_1's rmse: 3.62366\n",
      "[800]\ttraining's rmse: 2.95027\tvalid_1's rmse: 3.62402\n",
      "[1000]\ttraining's rmse: 2.85919\tvalid_1's rmse: 3.62448\n",
      "Early stopping, best iteration is:\n",
      "[680]\ttraining's rmse: 3.01205\tvalid_1's rmse: 3.6236\n",
      "[-1.9349639  -0.40991724 -0.8384043  ...  0.75649954 -3.44053394\n",
      "  0.09562575]\n",
      "CV mean score: 3.6506, std: 0.0270.\n"
     ]
    }
   ],
   "execution_count": 4
  },
  {
   "cell_type": "code",
   "metadata": {
    "execution": {
     "iopub.execute_input": "2023-08-24T10:07:44.257023Z",
     "iopub.status.busy": "2023-08-24T10:07:44.256402Z",
     "iopub.status.idle": "2023-08-24T11:13:51.406582Z",
     "shell.execute_reply": "2023-08-24T11:13:51.404931Z",
     "shell.execute_reply.started": "2023-08-24T10:07:44.256909Z"
    },
    "trusted": true,
    "ExecuteTime": {
     "end_time": "2024-04-25T10:19:04.146384Z",
     "start_time": "2024-04-25T10:15:55.616504Z"
    }
   },
   "source": [
    "print('='*10,'without outliers Regression Models','='*10)\n",
    "oof_nlgb, predictions_nlgb, scores_nlgb = train_model(X_ntrain, X_test, y_ntrain, params=lgb_params, folds=folds, model_type='lgb', eval_type='regression')\n",
    "predictions_nlgb_df = pd.DataFrame({'card_id': id_test.to_list(), 'prediction': predictions_nlgb})\n"
   ],
   "outputs": [
    {
     "name": "stdout",
     "output_type": "stream",
     "text": [
      "========== without outliers Regression Models ==========\n",
      "Fold 0 started at Thu Apr 25 18:15:55 2024\n",
      "Training until validation scores don't improve for 500 rounds\n",
      "[200]\ttraining's rmse: 1.5358\tvalid_1's rmse: 1.5576\n",
      "[400]\ttraining's rmse: 1.4879\tvalid_1's rmse: 1.5459\n",
      "[600]\ttraining's rmse: 1.45363\tvalid_1's rmse: 1.54362\n",
      "[800]\ttraining's rmse: 1.42462\tvalid_1's rmse: 1.54304\n",
      "[1000]\ttraining's rmse: 1.39871\tvalid_1's rmse: 1.54297\n",
      "[1200]\ttraining's rmse: 1.37448\tvalid_1's rmse: 1.54293\n",
      "[1400]\ttraining's rmse: 1.35129\tvalid_1's rmse: 1.54313\n",
      "[1600]\ttraining's rmse: 1.32902\tvalid_1's rmse: 1.54324\n",
      "Early stopping, best iteration is:\n",
      "[1136]\ttraining's rmse: 1.3822\tvalid_1's rmse: 1.5429\n",
      "[-0.09294421 -0.12536726 -0.18594042 ...  0.42438142 -0.28133206\n",
      "  0.08904922]\n",
      "Fold 1 started at Thu Apr 25 18:17:28 2024\n",
      "Training until validation scores don't improve for 500 rounds\n",
      "[200]\ttraining's rmse: 1.52048\tvalid_1's rmse: 1.57509\n",
      "[400]\ttraining's rmse: 1.47417\tvalid_1's rmse: 1.56356\n",
      "[600]\ttraining's rmse: 1.44067\tvalid_1's rmse: 1.56088\n",
      "[800]\ttraining's rmse: 1.41287\tvalid_1's rmse: 1.56005\n",
      "[1000]\ttraining's rmse: 1.38767\tvalid_1's rmse: 1.55991\n",
      "[1200]\ttraining's rmse: 1.36387\tvalid_1's rmse: 1.5598\n",
      "[1400]\ttraining's rmse: 1.34127\tvalid_1's rmse: 1.55977\n",
      "[1600]\ttraining's rmse: 1.31935\tvalid_1's rmse: 1.55973\n",
      "[1800]\ttraining's rmse: 1.29814\tvalid_1's rmse: 1.55986\n",
      "Early stopping, best iteration is:\n",
      "[1302]\ttraining's rmse: 1.35248\tvalid_1's rmse: 1.55971\n",
      "[-0.31141536 -0.22608998 -0.48415824 ...  0.84219692 -0.57610731\n",
      "  0.21038435]\n",
      "CV mean score: 1.5513, std: 0.0084.\n"
     ]
    }
   ],
   "execution_count": 5
  },
  {
   "cell_type": "code",
   "metadata": {
    "execution": {
     "iopub.execute_input": "2023-08-24T11:34:28.088125Z",
     "iopub.status.busy": "2023-08-24T11:34:28.08673Z",
     "iopub.status.idle": "2023-08-24T12:05:27.60352Z",
     "shell.execute_reply": "2023-08-24T12:05:27.601601Z",
     "shell.execute_reply.started": "2023-08-24T11:34:28.088025Z"
    },
    "trusted": true,
    "jupyter": {
     "is_executing": true
    },
    "ExecuteTime": {
     "start_time": "2024-04-25T10:19:04.147330Z"
    }
   },
   "source": [
    "print('='*10,'Classification Model','='*10)\n",
    "lgb_params['objective'] = 'binary'\n",
    "lgb_params['metric']    = 'binary_logloss'\n",
    "oof_blgb, predictions_blgb, scores_blgb = train_model(X_train , X_test, y_train_binary, params=lgb_params, folds=folds, model_type='lgb', eval_type='binary')\n",
    "predictions_blgb_df = pd.DataFrame({'card_id': id_test.to_list(), 'prediction': predictions_blgb})\n"
   ],
   "outputs": [
    {
     "name": "stdout",
     "output_type": "stream",
     "text": [
      "========== Classification Model ==========\n",
      "Fold 0 started at Thu Apr 25 18:19:04 2024\n",
      "Training until validation scores don't improve for 500 rounds\n",
      "[200]\ttraining's binary_logloss: 0.022064\tvalid_1's binary_logloss: 0.0457366\n",
      "[400]\ttraining's binary_logloss: 0.014054\tvalid_1's binary_logloss: 0.0454491\n"
     ]
    }
   ],
   "execution_count": null
  },
  {
   "cell_type": "code",
   "metadata": {
    "jupyter": {
     "is_executing": true
    }
   },
   "source": [
    "merged_df = pd.merge(predictions_blgb_df, predictions_nlgb_df, on='card_id', suffixes=('_blgb', '_nlgb'), how='left')\n",
    "merged_df = pd.merge(merged_df, predictions_lgb_df, on='card_id', suffixes=('_nlgb', '_lgb'), how='left')\n",
    "print(merged_df.head(5))\n",
    "\n",
    "# Create a new column 'final_prediction' based on the outliers classification\n",
    "merged_df['final_prediction'] = np.where(merged_df['prediction_blgb'] >= 0.8, \n",
    "                                         merged_df['prediction'], \n",
    "                                         merged_df['prediction_nlgb'])\n",
    "\n",
    "# Drop unnecessary columns\n",
    "merged_df.drop(['prediction_blgb', 'prediction_nlgb', 'prediction'], axis=1, inplace=True)"
   ],
   "outputs": [],
   "execution_count": null
  },
  {
   "cell_type": "code",
   "metadata": {
    "execution": {
     "iopub.execute_input": "2023-08-24T12:39:23.764443Z",
     "iopub.status.busy": "2023-08-24T12:39:23.761962Z",
     "iopub.status.idle": "2023-08-24T12:39:24.653204Z",
     "shell.execute_reply": "2023-08-24T12:39:24.651268Z",
     "shell.execute_reply.started": "2023-08-24T12:39:23.764279Z"
    },
    "trusted": true,
    "jupyter": {
     "is_executing": true
    }
   },
   "source": [
    "sub_df = pd.read_csv('./data/sample_submission.csv')\n",
    "sub_df[\"target\"] = merged_df['final_prediction']\n",
    "sub_df.to_csv('predictions_lgb_cleaned.csv', index=False)"
   ],
   "outputs": [],
   "execution_count": null
  },
  {
   "cell_type": "code",
   "metadata": {
    "jupyter": {
     "is_executing": true
    }
   },
   "source": [],
   "outputs": [],
   "execution_count": null
  }
 ],
 "metadata": {
  "kaggle": {
   "accelerator": "none",
   "dataSources": [
    {
     "databundleVersionId": 200747,
     "sourceId": 10445,
     "sourceType": "competition"
    }
   ],
   "dockerImageVersionId": 30527,
   "isGpuEnabled": false,
   "isInternetEnabled": true,
   "language": "python",
   "sourceType": "notebook"
  },
  "kernelspec": {
   "display_name": "Python 3",
   "language": "python",
   "name": "python3"
  },
  "language_info": {
   "codemirror_mode": {
    "name": "ipython",
    "version": 3
   },
   "file_extension": ".py",
   "mimetype": "text/x-python",
   "name": "python",
   "nbconvert_exporter": "python",
   "pygments_lexer": "ipython3",
   "version": "3.11.1"
  }
 },
 "nbformat": 4,
 "nbformat_minor": 4
}
