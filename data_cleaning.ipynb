{
 "cells": [
  {
   "cell_type": "code",
   "execution_count": 1,
   "metadata": {},
   "outputs": [],
   "source": [
    "import pandas as pd\n",
    "import numpy as np\n",
    "from tqdm import tqdm_notebook as tqdm\n",
    "from sklearn.preprocessing import LabelEncoder\n",
    "import gc\n",
    "import os\n",
    "\n",
    "from sklearn.ensemble import RandomForestRegressor\n",
    "from sklearn.model_selection import KFold\n",
    "from feature_selector import FeatureSelector\n",
    "\n",
    "\n",
    "import time\n",
    "import datetime\n",
    "from sklearn.metrics import mean_squared_error\n",
    "\n",
    "import matplotlib.pyplot as plt \n",
    "import seaborn as sns \n",
    "\n",
    "from feature_selector import FeatureSelector\n",
    "%matplotlib inline\n"
   ]
  },
  {
   "cell_type": "code",
   "execution_count": 2,
   "metadata": {},
   "outputs": [],
   "source": [
    "train = pd.read_csv(\"train.csv\")\n",
    "test =pd.read_csv(\"test.csv\")\n",
    "\n",
    "del_cols = []\n",
    "for col in train.columns:\n",
    "    if 'subsector_id_cnt_' in col and 'new_cardf': \n",
    "        del_cols.append(col)\n",
    "del_cols1 = []\n",
    "for col in train.columns:\n",
    "    if 'subsector_id_cnt_' in col and 'hist_last2_' in col:\n",
    "        del_cols1.append(col)\n",
    "del_cols2 = []\n",
    "for col in train.columns:\n",
    "    if 'subsector_id_cnt_' in col and 'auth_cardf' in col:\n",
    "        del_cols2.append(col)\n",
    "del_cols3 = []\n",
    "for col in train.columns:\n",
    "    if 'merchant_category_id_month_lag_nunique_' in col and '_pivot_supp' in col:\n",
    "        del_cols3.append(col)\n",
    "    if 'city_id' in col and '_pivot_supp' in col:\n",
    "        del_cols3.append(col)\n",
    "    if 'month_diff' in col and 'hist_last2_' in col:\n",
    "        del_cols3.append(col)\n",
    "    if 'month_diff_std' in col or 'month_diff_gap' in col:\n",
    "        del_cols3.append(col) \n",
    "fea_cols = [col for col in train.columns if train[col].dtypes!='object' and train[col].dtypes != '<M8[ns]' and col!='target' not in col and col!='min_num'\\\n",
    "            and col not in del_cols and col not in del_cols1 and col not in del_cols2 and col!='target1' and col!='card_id_cnt_ht_pivot_supp'  and col not in del_cols3] \n",
    "\n",
    "train = train[fea_cols+['target']]\n",
    "cardids = train['card_id']\n",
    "fea_cols.remove('outliers')\n",
    "test = test[fea_cols]"
   ]
  },
  {
   "cell_type": "code",
   "execution_count": 3,
   "metadata": {},
   "outputs": [],
   "source": [
    "train_labels = train['target'].values\n",
    "del train['target']\n",
    "fs = FeatureSelector(data = train, labels = train_labels)\n"
   ]
  },
  {
   "cell_type": "markdown",
   "metadata": {},
   "source": [
    "Identify features with missing values >60%"
   ]
  },
  {
   "cell_type": "code",
   "execution_count": 4,
   "metadata": {},
   "outputs": [
    {
     "name": "stdout",
     "output_type": "stream",
     "text": [
      "4 features with greater than 0.60 missing values.\n",
      "\n"
     ]
    }
   ],
   "source": [
    "fs.identify_missing(missing_threshold=0.6)\n"
   ]
  },
  {
   "cell_type": "code",
   "execution_count": 5,
   "metadata": {},
   "outputs": [
    {
     "data": {
      "text/plain": [
       "['new_cardf_card_id_part_cnt',\n",
       " 'new_cardf_card_id_part_purchase_amount_sum',\n",
       " 'new_cardf_card_id_part_purchase_amount_mean',\n",
       " 'new_cardf_card_id_part_purchase_amount_sum_percent']"
      ]
     },
     "execution_count": 5,
     "metadata": {},
     "output_type": "execute_result"
    }
   ],
   "source": [
    "missing_features = fs.ops['missing']\n",
    "missing_features[:10]"
   ]
  },
  {
   "cell_type": "code",
   "execution_count": 6,
   "metadata": {},
   "outputs": [
    {
     "data": {
      "image/png": "[encoded data removed]",
      "text/plain": [
       "<Figure size 700x500 with 1 Axes>"
      ]
     },
     "metadata": {},
     "output_type": "display_data"
    }
   ],
   "source": [
    "fs.plot_missing()\n"
   ]
  },
  {
   "cell_type": "code",
   "execution_count": 7,
   "metadata": {},
   "outputs": [
    {
     "data": {
      "text/html": [
       "<div>\n",
       "<style scoped>\n",
       "    .dataframe tbody tr th:only-of-type {\n",
       "        vertical-align: middle;\n",
       "    }\n",
       "\n",
       "    .dataframe tbody tr th {\n",
       "        vertical-align: top;\n",
       "    }\n",
       "\n",
       "    .dataframe thead th {\n",
       "        text-align: right;\n",
       "    }\n",
       "</style>\n",
       "<table border=\"1\" class=\"dataframe\">\n",
       "  <thead>\n",
       "    <tr style=\"text-align: right;\">\n",
       "      <th></th>\n",
       "      <th>missing_fraction</th>\n",
       "    </tr>\n",
       "  </thead>\n",
       "  <tbody>\n",
       "    <tr>\n",
       "      <th>new_cardf_card_id_part_purchase_amount_sum_percent</th>\n",
       "      <td>1.000000</td>\n",
       "    </tr>\n",
       "    <tr>\n",
       "      <th>new_cardf_card_id_part_purchase_amount_mean</th>\n",
       "      <td>1.000000</td>\n",
       "    </tr>\n",
       "    <tr>\n",
       "      <th>new_cardf_card_id_part_purchase_amount_sum</th>\n",
       "      <td>1.000000</td>\n",
       "    </tr>\n",
       "    <tr>\n",
       "      <th>new_cardf_card_id_part_cnt</th>\n",
       "      <td>1.000000</td>\n",
       "    </tr>\n",
       "    <tr>\n",
       "      <th>new_amount_month_ratio_skew</th>\n",
       "      <td>0.355933</td>\n",
       "    </tr>\n",
       "    <tr>\n",
       "      <th>...</th>\n",
       "      <td>...</td>\n",
       "    </tr>\n",
       "    <tr>\n",
       "      <th>hist_cardf_card_id_month_lag_nunique</th>\n",
       "      <td>0.000000</td>\n",
       "    </tr>\n",
       "    <tr>\n",
       "      <th>hist_cardf_card_id_cnt_divide_month_lag_nunique</th>\n",
       "      <td>0.000000</td>\n",
       "    </tr>\n",
       "    <tr>\n",
       "      <th>hist_cardf_card_id_purchase_date_floorday_nunique</th>\n",
       "      <td>0.000000</td>\n",
       "    </tr>\n",
       "    <tr>\n",
       "      <th>hist_cardf_card_id_cnt_divide_purchase_date_floorday_nunique</th>\n",
       "      <td>0.000000</td>\n",
       "    </tr>\n",
       "    <tr>\n",
       "      <th>hist_cardf_month_lag_cnt_pivot_0</th>\n",
       "      <td>0.000000</td>\n",
       "    </tr>\n",
       "  </tbody>\n",
       "</table>\n",
       "<p>799 rows × 1 columns</p>\n",
       "</div>"
      ],
      "text/plain": [
       "                                                    missing_fraction\n",
       "new_cardf_card_id_part_purchase_amount_sum_percent          1.000000\n",
       "new_cardf_card_id_part_purchase_amount_mean                 1.000000\n",
       "new_cardf_card_id_part_purchase_amount_sum                  1.000000\n",
       "new_cardf_card_id_part_cnt                                  1.000000\n",
       "new_amount_month_ratio_skew                                 0.355933\n",
       "...                                                              ...\n",
       "hist_cardf_card_id_month_lag_nunique                        0.000000\n",
       "hist_cardf_card_id_cnt_divide_month_lag_nunique             0.000000\n",
       "hist_cardf_card_id_purchase_date_floorday_nunique           0.000000\n",
       "hist_cardf_card_id_cnt_divide_purchase_date_flo...          0.000000\n",
       "hist_cardf_month_lag_cnt_pivot_0                            0.000000\n",
       "\n",
       "[799 rows x 1 columns]"
      ]
     },
     "execution_count": 7,
     "metadata": {},
     "output_type": "execute_result"
    }
   ],
   "source": [
    "fs.missing_stats"
   ]
  },
  {
   "cell_type": "markdown",
   "metadata": {},
   "source": [
    "Zero Importance Features\n"
   ]
  },
  {
   "cell_type": "code",
   "execution_count": 8,
   "metadata": {},
   "outputs": [
    {
     "name": "stdout",
     "output_type": "stream",
     "text": [
      "Training Gradient Boosting Model\n",
      "\n",
      "[LightGBM] [Info] Auto-choosing col-wise multi-threading, the overhead of testing was 1.056838 seconds.\n",
      "You can set `force_col_wise=true` to remove the overhead.\n",
      "[LightGBM] [Info] Total Bins 149245\n",
      "[LightGBM] [Info] Number of data points in the train set: 161533, number of used features: 795\n",
      "[LightGBM] [Info] Start training from score -0.396133\n",
      "Training until validation scores don't improve for 500 rounds\n",
      "[200]\tvalid_0's auc: 0.689086\tvalid_0's l2: 2.40257\n",
      "[400]\tvalid_0's auc: 0.689142\tvalid_0's l2: 2.4051\n",
      "[600]\tvalid_0's auc: 0.688615\tvalid_0's l2: 2.40852\n",
      "Early stopping, best iteration is:\n",
      "[177]\tvalid_0's auc: 0.68915\tvalid_0's l2: 2.40178\n",
      "[LightGBM] [Info] Auto-choosing col-wise multi-threading, the overhead of testing was 1.116279 seconds.\n",
      "You can set `force_col_wise=true` to remove the overhead.\n",
      "[LightGBM] [Info] Total Bins 149151\n",
      "[LightGBM] [Info] Number of data points in the train set: 161533, number of used features: 795\n",
      "[LightGBM] [Info] Start training from score -0.393286\n",
      "Training until validation scores don't improve for 500 rounds\n",
      "[200]\tvalid_0's auc: 0.69311\tvalid_0's l2: 2.36045\n",
      "[400]\tvalid_0's auc: 0.693312\tvalid_0's l2: 2.3587\n",
      "[600]\tvalid_0's auc: 0.693123\tvalid_0's l2: 2.36044\n",
      "Early stopping, best iteration is:\n",
      "[299]\tvalid_0's auc: 0.693136\tvalid_0's l2: 2.35818\n",
      "[LightGBM] [Info] Auto-choosing col-wise multi-threading, the overhead of testing was 1.018824 seconds.\n",
      "You can set `force_col_wise=true` to remove the overhead.\n",
      "[LightGBM] [Info] Total Bins 149096\n",
      "[LightGBM] [Info] Number of data points in the train set: 161533, number of used features: 795\n",
      "[LightGBM] [Info] Start training from score -0.389529\n",
      "Training until validation scores don't improve for 500 rounds\n",
      "[200]\tvalid_0's auc: 0.687666\tvalid_0's l2: 2.36791\n",
      "[400]\tvalid_0's auc: 0.687987\tvalid_0's l2: 2.36844\n",
      "[600]\tvalid_0's auc: 0.687671\tvalid_0's l2: 2.37152\n",
      "Early stopping, best iteration is:\n",
      "[258]\tvalid_0's auc: 0.687792\tvalid_0's l2: 2.36673\n",
      "[LightGBM] [Info] Auto-choosing row-wise multi-threading, the overhead of testing was 0.172837 seconds.\n",
      "You can set `force_row_wise=true` to remove the overhead.\n",
      "And if memory is not enough, you can set `force_col_wise=true`.\n",
      "[LightGBM] [Info] Total Bins 149320\n",
      "[LightGBM] [Info] Number of data points in the train set: 161533, number of used features: 795\n",
      "[LightGBM] [Info] Start training from score -0.395002\n",
      "Training until validation scores don't improve for 500 rounds\n",
      "[200]\tvalid_0's auc: 0.68584\tvalid_0's l2: 2.3968\n",
      "[400]\tvalid_0's auc: 0.686198\tvalid_0's l2: 2.39757\n",
      "[600]\tvalid_0's auc: 0.685644\tvalid_0's l2: 2.4022\n",
      "Early stopping, best iteration is:\n",
      "[283]\tvalid_0's auc: 0.686341\tvalid_0's l2: 2.39549\n",
      "[LightGBM] [Info] Auto-choosing col-wise multi-threading, the overhead of testing was 0.996686 seconds.\n",
      "You can set `force_col_wise=true` to remove the overhead.\n",
      "[LightGBM] [Info] Total Bins 149223\n",
      "[LightGBM] [Info] Number of data points in the train set: 161533, number of used features: 795\n",
      "[LightGBM] [Info] Start training from score -0.395549\n",
      "Training until validation scores don't improve for 500 rounds\n",
      "[200]\tvalid_0's auc: 0.690936\tvalid_0's l2: 2.39203\n",
      "[400]\tvalid_0's auc: 0.691007\tvalid_0's l2: 2.39209\n",
      "[600]\tvalid_0's auc: 0.690979\tvalid_0's l2: 2.39377\n",
      "Early stopping, best iteration is:\n",
      "[189]\tvalid_0's auc: 0.690958\tvalid_0's l2: 2.3911\n",
      "[LightGBM] [Info] Auto-choosing col-wise multi-threading, the overhead of testing was 0.659064 seconds.\n",
      "You can set `force_col_wise=true` to remove the overhead.\n",
      "[LightGBM] [Info] Total Bins 149171\n",
      "[LightGBM] [Info] Number of data points in the train set: 161533, number of used features: 795\n",
      "[LightGBM] [Info] Start training from score -0.388645\n",
      "Training until validation scores don't improve for 500 rounds\n",
      "[200]\tvalid_0's auc: 0.687841\tvalid_0's l2: 2.35175\n",
      "[400]\tvalid_0's auc: 0.688805\tvalid_0's l2: 2.34987\n",
      "[600]\tvalid_0's auc: 0.689113\tvalid_0's l2: 2.35049\n",
      "[800]\tvalid_0's auc: 0.688721\tvalid_0's l2: 2.3536\n",
      "Early stopping, best iteration is:\n",
      "[422]\tvalid_0's auc: 0.688985\tvalid_0's l2: 2.34941\n",
      "[LightGBM] [Info] Auto-choosing col-wise multi-threading, the overhead of testing was 0.580586 seconds.\n",
      "You can set `force_col_wise=true` to remove the overhead.\n",
      "[LightGBM] [Info] Total Bins 149317\n",
      "[LightGBM] [Info] Number of data points in the train set: 161533, number of used features: 795\n",
      "[LightGBM] [Info] Start training from score -0.389359\n",
      "Training until validation scores don't improve for 500 rounds\n",
      "[200]\tvalid_0's auc: 0.689259\tvalid_0's l2: 2.4165\n",
      "[400]\tvalid_0's auc: 0.689685\tvalid_0's l2: 2.4174\n",
      "[600]\tvalid_0's auc: 0.689613\tvalid_0's l2: 2.41828\n",
      "Early stopping, best iteration is:\n",
      "[281]\tvalid_0's auc: 0.689601\tvalid_0's l2: 2.41563\n",
      "[LightGBM] [Info] Auto-choosing col-wise multi-threading, the overhead of testing was 0.890913 seconds.\n",
      "You can set `force_col_wise=true` to remove the overhead.\n",
      "[LightGBM] [Info] Total Bins 149136\n",
      "[LightGBM] [Info] Number of data points in the train set: 161533, number of used features: 795\n",
      "[LightGBM] [Info] Start training from score -0.391347\n",
      "Training until validation scores don't improve for 500 rounds\n",
      "[200]\tvalid_0's auc: 0.691251\tvalid_0's l2: 2.37232\n",
      "[400]\tvalid_0's auc: 0.691238\tvalid_0's l2: 2.36964\n",
      "[600]\tvalid_0's auc: 0.691707\tvalid_0's l2: 2.3707\n",
      "[800]\tvalid_0's auc: 0.691785\tvalid_0's l2: 2.37209\n",
      "Early stopping, best iteration is:\n",
      "[467]\tvalid_0's auc: 0.691559\tvalid_0's l2: 2.3692\n",
      "[LightGBM] [Info] Auto-choosing col-wise multi-threading, the overhead of testing was 0.605200 seconds.\n",
      "You can set `force_col_wise=true` to remove the overhead.\n",
      "[LightGBM] [Info] Total Bins 149096\n",
      "[LightGBM] [Info] Number of data points in the train set: 161533, number of used features: 795\n",
      "[LightGBM] [Info] Start training from score -0.393564\n",
      "Training until validation scores don't improve for 500 rounds\n",
      "[200]\tvalid_0's auc: 0.693658\tvalid_0's l2: 2.3697\n",
      "[400]\tvalid_0's auc: 0.694184\tvalid_0's l2: 2.36754\n",
      "[600]\tvalid_0's auc: 0.694178\tvalid_0's l2: 2.36935\n",
      "[800]\tvalid_0's auc: 0.69389\tvalid_0's l2: 2.37181\n",
      "Early stopping, best iteration is:\n",
      "[394]\tvalid_0's auc: 0.694216\tvalid_0's l2: 2.36733\n",
      "[LightGBM] [Info] Auto-choosing col-wise multi-threading, the overhead of testing was 0.567001 seconds.\n",
      "You can set `force_col_wise=true` to remove the overhead.\n",
      "[LightGBM] [Info] Total Bins 149213\n",
      "[LightGBM] [Info] Number of data points in the train set: 161533, number of used features: 795\n",
      "[LightGBM] [Info] Start training from score -0.386649\n",
      "Training until validation scores don't improve for 500 rounds\n",
      "[200]\tvalid_0's auc: 0.692505\tvalid_0's l2: 2.38159\n",
      "[400]\tvalid_0's auc: 0.692957\tvalid_0's l2: 2.38054\n",
      "[600]\tvalid_0's auc: 0.692715\tvalid_0's l2: 2.38338\n",
      "Early stopping, best iteration is:\n",
      "[268]\tvalid_0's auc: 0.692789\tvalid_0's l2: 2.38031\n",
      "\n",
      "52 features with zero or negative importance after one-hot encoding.\n",
      "\n"
     ]
    }
   ],
   "source": [
    "fs.identify_zero_importance(task = 'regression', eval_metric = 'auc', \n",
    "                            n_iterations = 5, early_stopping = True)"
   ]
  },
  {
   "cell_type": "code",
   "execution_count": 9,
   "metadata": {},
   "outputs": [
    {
     "name": "stdout",
     "output_type": "stream",
     "text": [
      "There are 799 original features\n",
      "There are 0 one-hot features\n"
     ]
    }
   ],
   "source": [
    "one_hot_features = fs.one_hot_features\n",
    "base_features = fs.base_features\n",
    "print('There are %d original features' % len(base_features))\n",
    "print('There are %d one-hot features' % len(one_hot_features))"
   ]
  },
  {
   "cell_type": "code",
   "execution_count": 10,
   "metadata": {},
   "outputs": [
    {
     "data": {
      "text/html": [
       "<div>\n",
       "<style scoped>\n",
       "    .dataframe tbody tr th:only-of-type {\n",
       "        vertical-align: middle;\n",
       "    }\n",
       "\n",
       "    .dataframe tbody tr th {\n",
       "        vertical-align: top;\n",
       "    }\n",
       "\n",
       "    .dataframe thead th {\n",
       "        text-align: right;\n",
       "    }\n",
       "</style>\n",
       "<table border=\"1\" class=\"dataframe\">\n",
       "  <thead>\n",
       "    <tr style=\"text-align: right;\">\n",
       "      <th></th>\n",
       "      <th>Unnamed: 0</th>\n",
       "      <th>feature_1</th>\n",
       "      <th>feature_2</th>\n",
       "      <th>feature_3</th>\n",
       "      <th>year</th>\n",
       "      <th>elapsed_time</th>\n",
       "      <th>weekofyear</th>\n",
       "      <th>dayofyear</th>\n",
       "      <th>month</th>\n",
       "      <th>auth_category_1_mean</th>\n",
       "      <th>...</th>\n",
       "      <th>purchase_amount_ratio_v3</th>\n",
       "      <th>purchase_amount_diff_sum</th>\n",
       "      <th>purchase_amount_diff_mean</th>\n",
       "      <th>purchase_amount_diff_max</th>\n",
       "      <th>purchase_amount_diff_min</th>\n",
       "      <th>pa_mlag_ratio</th>\n",
       "      <th>pa_new_hist_ratio</th>\n",
       "      <th>pa_new_hist_mean_ratio</th>\n",
       "      <th>pa_new_hist_min_ratio</th>\n",
       "      <th>pa_new_hist_max_ratio</th>\n",
       "    </tr>\n",
       "  </thead>\n",
       "  <tbody>\n",
       "    <tr>\n",
       "      <th>0</th>\n",
       "      <td>0</td>\n",
       "      <td>5</td>\n",
       "      <td>2</td>\n",
       "      <td>1</td>\n",
       "      <td>2017</td>\n",
       "      <td>273</td>\n",
       "      <td>22</td>\n",
       "      <td>152</td>\n",
       "      <td>6</td>\n",
       "      <td>0.000000</td>\n",
       "      <td>...</td>\n",
       "      <td>0.396301</td>\n",
       "      <td>1860.0</td>\n",
       "      <td>55.551838</td>\n",
       "      <td>90.0</td>\n",
       "      <td>9.0</td>\n",
       "      <td>-479.169014</td>\n",
       "      <td>3.457067</td>\n",
       "      <td>1.953995</td>\n",
       "      <td>2.500000</td>\n",
       "      <td>1.428572</td>\n",
       "    </tr>\n",
       "    <tr>\n",
       "      <th>1</th>\n",
       "      <td>1</td>\n",
       "      <td>4</td>\n",
       "      <td>1</td>\n",
       "      <td>0</td>\n",
       "      <td>2017</td>\n",
       "      <td>424</td>\n",
       "      <td>52</td>\n",
       "      <td>1</td>\n",
       "      <td>1</td>\n",
       "      <td>0.085546</td>\n",
       "      <td>...</td>\n",
       "      <td>0.006356</td>\n",
       "      <td>-4636.0</td>\n",
       "      <td>-415.090900</td>\n",
       "      <td>-1760.0</td>\n",
       "      <td>1.0</td>\n",
       "      <td>-15.400000</td>\n",
       "      <td>0.017797</td>\n",
       "      <td>0.032627</td>\n",
       "      <td>1.250000</td>\n",
       "      <td>0.016760</td>\n",
       "    </tr>\n",
       "    <tr>\n",
       "      <th>2</th>\n",
       "      <td>2</td>\n",
       "      <td>2</td>\n",
       "      <td>2</td>\n",
       "      <td>0</td>\n",
       "      <td>2016</td>\n",
       "      <td>577</td>\n",
       "      <td>31</td>\n",
       "      <td>214</td>\n",
       "      <td>8</td>\n",
       "      <td>0.000000</td>\n",
       "      <td>...</td>\n",
       "      <td>0.300971</td>\n",
       "      <td>-72.0</td>\n",
       "      <td>-20.500000</td>\n",
       "      <td>-42.0</td>\n",
       "      <td>1.0</td>\n",
       "      <td>-2.583333</td>\n",
       "      <td>0.300971</td>\n",
       "      <td>0.601942</td>\n",
       "      <td>1.033333</td>\n",
       "      <td>0.424658</td>\n",
       "    </tr>\n",
       "    <tr>\n",
       "      <th>3</th>\n",
       "      <td>3</td>\n",
       "      <td>4</td>\n",
       "      <td>3</td>\n",
       "      <td>0</td>\n",
       "      <td>2017</td>\n",
       "      <td>181</td>\n",
       "      <td>35</td>\n",
       "      <td>244</td>\n",
       "      <td>9</td>\n",
       "      <td>0.155844</td>\n",
       "      <td>...</td>\n",
       "      <td>NaN</td>\n",
       "      <td>NaN</td>\n",
       "      <td>NaN</td>\n",
       "      <td>NaN</td>\n",
       "      <td>NaN</td>\n",
       "      <td>NaN</td>\n",
       "      <td>NaN</td>\n",
       "      <td>NaN</td>\n",
       "      <td>NaN</td>\n",
       "      <td>NaN</td>\n",
       "    </tr>\n",
       "    <tr>\n",
       "      <th>4</th>\n",
       "      <td>4</td>\n",
       "      <td>1</td>\n",
       "      <td>3</td>\n",
       "      <td>0</td>\n",
       "      <td>2017</td>\n",
       "      <td>120</td>\n",
       "      <td>44</td>\n",
       "      <td>305</td>\n",
       "      <td>11</td>\n",
       "      <td>0.093750</td>\n",
       "      <td>...</td>\n",
       "      <td>0.049716</td>\n",
       "      <td>-11397.0</td>\n",
       "      <td>-3077.477800</td>\n",
       "      <td>-4487.0</td>\n",
       "      <td>-151.0</td>\n",
       "      <td>-3310.000000</td>\n",
       "      <td>0.289065</td>\n",
       "      <td>0.040148</td>\n",
       "      <td>0.032051</td>\n",
       "      <td>0.150833</td>\n",
       "    </tr>\n",
       "    <tr>\n",
       "      <th>5</th>\n",
       "      <td>5</td>\n",
       "      <td>4</td>\n",
       "      <td>2</td>\n",
       "      <td>0</td>\n",
       "      <td>2016</td>\n",
       "      <td>546</td>\n",
       "      <td>35</td>\n",
       "      <td>245</td>\n",
       "      <td>9</td>\n",
       "      <td>0.031250</td>\n",
       "      <td>...</td>\n",
       "      <td>5.522222</td>\n",
       "      <td>966.0</td>\n",
       "      <td>174.000000</td>\n",
       "      <td>407.0</td>\n",
       "      <td>-29.0</td>\n",
       "      <td>-528.000000</td>\n",
       "      <td>11.733334</td>\n",
       "      <td>2.933333</td>\n",
       "      <td>0.677778</td>\n",
       "      <td>5.522222</td>\n",
       "    </tr>\n",
       "    <tr>\n",
       "      <th>6</th>\n",
       "      <td>6</td>\n",
       "      <td>3</td>\n",
       "      <td>2</td>\n",
       "      <td>1</td>\n",
       "      <td>2016</td>\n",
       "      <td>455</td>\n",
       "      <td>48</td>\n",
       "      <td>336</td>\n",
       "      <td>12</td>\n",
       "      <td>0.000000</td>\n",
       "      <td>...</td>\n",
       "      <td>0.133106</td>\n",
       "      <td>-205.0</td>\n",
       "      <td>0.364706</td>\n",
       "      <td>-7.0</td>\n",
       "      <td>-2.0</td>\n",
       "      <td>-10.108108</td>\n",
       "      <td>0.300341</td>\n",
       "      <td>1.021160</td>\n",
       "      <td>0.600000</td>\n",
       "      <td>0.847826</td>\n",
       "    </tr>\n",
       "    <tr>\n",
       "      <th>7</th>\n",
       "      <td>7</td>\n",
       "      <td>3</td>\n",
       "      <td>2</td>\n",
       "      <td>1</td>\n",
       "      <td>2017</td>\n",
       "      <td>181</td>\n",
       "      <td>35</td>\n",
       "      <td>244</td>\n",
       "      <td>9</td>\n",
       "      <td>0.000000</td>\n",
       "      <td>...</td>\n",
       "      <td>0.253846</td>\n",
       "      <td>-35.0</td>\n",
       "      <td>-11.666666</td>\n",
       "      <td>-32.0</td>\n",
       "      <td>29.0</td>\n",
       "      <td>-31.666667</td>\n",
       "      <td>0.730769</td>\n",
       "      <td>0.730769</td>\n",
       "      <td>30.000000</td>\n",
       "      <td>0.507692</td>\n",
       "    </tr>\n",
       "    <tr>\n",
       "      <th>8</th>\n",
       "      <td>8</td>\n",
       "      <td>2</td>\n",
       "      <td>1</td>\n",
       "      <td>0</td>\n",
       "      <td>2017</td>\n",
       "      <td>212</td>\n",
       "      <td>31</td>\n",
       "      <td>213</td>\n",
       "      <td>8</td>\n",
       "      <td>0.000000</td>\n",
       "      <td>...</td>\n",
       "      <td>inf</td>\n",
       "      <td>154.0</td>\n",
       "      <td>77.000000</td>\n",
       "      <td>111.0</td>\n",
       "      <td>43.0</td>\n",
       "      <td>-25.666667</td>\n",
       "      <td>inf</td>\n",
       "      <td>inf</td>\n",
       "      <td>inf</td>\n",
       "      <td>inf</td>\n",
       "    </tr>\n",
       "    <tr>\n",
       "      <th>9</th>\n",
       "      <td>9</td>\n",
       "      <td>2</td>\n",
       "      <td>2</td>\n",
       "      <td>0</td>\n",
       "      <td>2016</td>\n",
       "      <td>577</td>\n",
       "      <td>31</td>\n",
       "      <td>214</td>\n",
       "      <td>8</td>\n",
       "      <td>0.000000</td>\n",
       "      <td>...</td>\n",
       "      <td>0.048301</td>\n",
       "      <td>-1051.0</td>\n",
       "      <td>-57.523804</td>\n",
       "      <td>-158.0</td>\n",
       "      <td>-6.0</td>\n",
       "      <td>-12.506667</td>\n",
       "      <td>0.059928</td>\n",
       "      <td>0.279666</td>\n",
       "      <td>0.333333</td>\n",
       "      <td>0.254717</td>\n",
       "    </tr>\n",
       "  </tbody>\n",
       "</table>\n",
       "<p>10 rows × 799 columns</p>\n",
       "</div>"
      ],
      "text/plain": [
       "   Unnamed: 0  feature_1  feature_2  feature_3  year  elapsed_time  \\\n",
       "0           0          5          2          1  2017           273   \n",
       "1           1          4          1          0  2017           424   \n",
       "2           2          2          2          0  2016           577   \n",
       "3           3          4          3          0  2017           181   \n",
       "4           4          1          3          0  2017           120   \n",
       "5           5          4          2          0  2016           546   \n",
       "6           6          3          2          1  2016           455   \n",
       "7           7          3          2          1  2017           181   \n",
       "8           8          2          1          0  2017           212   \n",
       "9           9          2          2          0  2016           577   \n",
       "\n",
       "   weekofyear  dayofyear  month  auth_category_1_mean  ...  \\\n",
       "0          22        152      6              0.000000  ...   \n",
       "1          52          1      1              0.085546  ...   \n",
       "2          31        214      8              0.000000  ...   \n",
       "3          35        244      9              0.155844  ...   \n",
       "4          44        305     11              0.093750  ...   \n",
       "5          35        245      9              0.031250  ...   \n",
       "6          48        336     12              0.000000  ...   \n",
       "7          35        244      9              0.000000  ...   \n",
       "8          31        213      8              0.000000  ...   \n",
       "9          31        214      8              0.000000  ...   \n",
       "\n",
       "   purchase_amount_ratio_v3  purchase_amount_diff_sum  \\\n",
       "0                  0.396301                    1860.0   \n",
       "1                  0.006356                   -4636.0   \n",
       "2                  0.300971                     -72.0   \n",
       "3                       NaN                       NaN   \n",
       "4                  0.049716                  -11397.0   \n",
       "5                  5.522222                     966.0   \n",
       "6                  0.133106                    -205.0   \n",
       "7                  0.253846                     -35.0   \n",
       "8                       inf                     154.0   \n",
       "9                  0.048301                   -1051.0   \n",
       "\n",
       "   purchase_amount_diff_mean  purchase_amount_diff_max  \\\n",
       "0                  55.551838                      90.0   \n",
       "1                -415.090900                   -1760.0   \n",
       "2                 -20.500000                     -42.0   \n",
       "3                        NaN                       NaN   \n",
       "4               -3077.477800                   -4487.0   \n",
       "5                 174.000000                     407.0   \n",
       "6                   0.364706                      -7.0   \n",
       "7                 -11.666666                     -32.0   \n",
       "8                  77.000000                     111.0   \n",
       "9                 -57.523804                    -158.0   \n",
       "\n",
       "   purchase_amount_diff_min  pa_mlag_ratio  pa_new_hist_ratio  \\\n",
       "0                       9.0    -479.169014           3.457067   \n",
       "1                       1.0     -15.400000           0.017797   \n",
       "2                       1.0      -2.583333           0.300971   \n",
       "3                       NaN            NaN                NaN   \n",
       "4                    -151.0   -3310.000000           0.289065   \n",
       "5                     -29.0    -528.000000          11.733334   \n",
       "6                      -2.0     -10.108108           0.300341   \n",
       "7                      29.0     -31.666667           0.730769   \n",
       "8                      43.0     -25.666667                inf   \n",
       "9                      -6.0     -12.506667           0.059928   \n",
       "\n",
       "   pa_new_hist_mean_ratio  pa_new_hist_min_ratio  pa_new_hist_max_ratio  \n",
       "0                1.953995               2.500000               1.428572  \n",
       "1                0.032627               1.250000               0.016760  \n",
       "2                0.601942               1.033333               0.424658  \n",
       "3                     NaN                    NaN                    NaN  \n",
       "4                0.040148               0.032051               0.150833  \n",
       "5                2.933333               0.677778               5.522222  \n",
       "6                1.021160               0.600000               0.847826  \n",
       "7                0.730769              30.000000               0.507692  \n",
       "8                     inf                    inf                    inf  \n",
       "9                0.279666               0.333333               0.254717  \n",
       "\n",
       "[10 rows x 799 columns]"
      ]
     },
     "execution_count": 10,
     "metadata": {},
     "output_type": "execute_result"
    }
   ],
   "source": [
    "fs.data_all.head(10)\n"
   ]
  },
  {
   "cell_type": "code",
   "execution_count": 11,
   "metadata": {},
   "outputs": [
    {
     "data": {
      "text/plain": [
       "['hist_cardf_subsector_id_day_nunique_pct_28',\n",
       " 'month',\n",
       " 'auth_cardf_card_id_cnt',\n",
       " 'feature_mean',\n",
       " 'card_id_cnt_total']"
      ]
     },
     "execution_count": 11,
     "metadata": {},
     "output_type": "execute_result"
    }
   ],
   "source": [
    "zero_importance_features = fs.ops['zero_importance']\n",
    "zero_importance_features[10:15]"
   ]
  },
  {
   "cell_type": "code",
   "execution_count": 12,
   "metadata": {},
   "outputs": [
    {
     "data": {
      "image/png": "[encoded data removed]",
      "text/plain": [
       "<Figure size 1000x600 with 1 Axes>"
      ]
     },
     "metadata": {},
     "output_type": "display_data"
    },
    {
     "data": {
      "image/png": "[encoded data removed]",
      "text/plain": [
       "<Figure size 600x400 with 1 Axes>"
      ]
     },
     "metadata": {},
     "output_type": "display_data"
    },
    {
     "name": "stdout",
     "output_type": "stream",
     "text": [
      "651 features required for 0.99 of cumulative importance\n"
     ]
    }
   ],
   "source": [
    "fs.plot_feature_importances(threshold = 0.99, plot_n = 12)"
   ]
  },
  {
   "cell_type": "code",
   "execution_count": 13,
   "metadata": {},
   "outputs": [
    {
     "data": {
      "text/html": [
       "<div>\n",
       "<style scoped>\n",
       "    .dataframe tbody tr th:only-of-type {\n",
       "        vertical-align: middle;\n",
       "    }\n",
       "\n",
       "    .dataframe tbody tr th {\n",
       "        vertical-align: top;\n",
       "    }\n",
       "\n",
       "    .dataframe thead th {\n",
       "        text-align: right;\n",
       "    }\n",
       "</style>\n",
       "<table border=\"1\" class=\"dataframe\">\n",
       "  <thead>\n",
       "    <tr style=\"text-align: right;\">\n",
       "      <th></th>\n",
       "      <th>feature</th>\n",
       "      <th>importance</th>\n",
       "      <th>normalized_importance</th>\n",
       "      <th>cumulative_importance</th>\n",
       "    </tr>\n",
       "  </thead>\n",
       "  <tbody>\n",
       "    <tr>\n",
       "      <th>0</th>\n",
       "      <td>purchase_amount_ratio</td>\n",
       "      <td>259.0</td>\n",
       "      <td>0.028418</td>\n",
       "      <td>0.028418</td>\n",
       "    </tr>\n",
       "    <tr>\n",
       "      <th>1</th>\n",
       "      <td>hist_cardf_card_id_cnt_divide_merchant_id_nunique</td>\n",
       "      <td>119.5</td>\n",
       "      <td>0.013112</td>\n",
       "      <td>0.041530</td>\n",
       "    </tr>\n",
       "    <tr>\n",
       "      <th>2</th>\n",
       "      <td>new_CLV</td>\n",
       "      <td>119.3</td>\n",
       "      <td>0.013090</td>\n",
       "      <td>0.054619</td>\n",
       "    </tr>\n",
       "    <tr>\n",
       "      <th>3</th>\n",
       "      <td>outliers</td>\n",
       "      <td>110.7</td>\n",
       "      <td>0.012146</td>\n",
       "      <td>0.066765</td>\n",
       "    </tr>\n",
       "    <tr>\n",
       "      <th>4</th>\n",
       "      <td>new_purchase_date_max</td>\n",
       "      <td>100.2</td>\n",
       "      <td>0.010994</td>\n",
       "      <td>0.077759</td>\n",
       "    </tr>\n",
       "    <tr>\n",
       "      <th>5</th>\n",
       "      <td>new_cardf_reference_day_to_last_day</td>\n",
       "      <td>83.0</td>\n",
       "      <td>0.009107</td>\n",
       "      <td>0.086866</td>\n",
       "    </tr>\n",
       "    <tr>\n",
       "      <th>6</th>\n",
       "      <td>new_cardf_reference_day_to_first_day</td>\n",
       "      <td>82.1</td>\n",
       "      <td>0.009008</td>\n",
       "      <td>0.095874</td>\n",
       "    </tr>\n",
       "    <tr>\n",
       "      <th>7</th>\n",
       "      <td>hist_last2_card_id_purchase_amount_median</td>\n",
       "      <td>64.8</td>\n",
       "      <td>0.007110</td>\n",
       "      <td>0.102984</td>\n",
       "    </tr>\n",
       "    <tr>\n",
       "      <th>8</th>\n",
       "      <td>hist_last2_card_id_cnt_divide_merchant_id_nunique</td>\n",
       "      <td>61.0</td>\n",
       "      <td>0.006693</td>\n",
       "      <td>0.109677</td>\n",
       "    </tr>\n",
       "    <tr>\n",
       "      <th>9</th>\n",
       "      <td>new_weekofyear_std</td>\n",
       "      <td>59.3</td>\n",
       "      <td>0.006506</td>\n",
       "      <td>0.116184</td>\n",
       "    </tr>\n",
       "  </tbody>\n",
       "</table>\n",
       "</div>"
      ],
      "text/plain": [
       "                                             feature  importance  \\\n",
       "0                              purchase_amount_ratio       259.0   \n",
       "1  hist_cardf_card_id_cnt_divide_merchant_id_nunique       119.5   \n",
       "2                                            new_CLV       119.3   \n",
       "3                                           outliers       110.7   \n",
       "4                              new_purchase_date_max       100.2   \n",
       "5                new_cardf_reference_day_to_last_day        83.0   \n",
       "6               new_cardf_reference_day_to_first_day        82.1   \n",
       "7          hist_last2_card_id_purchase_amount_median        64.8   \n",
       "8  hist_last2_card_id_cnt_divide_merchant_id_nunique        61.0   \n",
       "9                                 new_weekofyear_std        59.3   \n",
       "\n",
       "   normalized_importance  cumulative_importance  \n",
       "0               0.028418               0.028418  \n",
       "1               0.013112               0.041530  \n",
       "2               0.013090               0.054619  \n",
       "3               0.012146               0.066765  \n",
       "4               0.010994               0.077759  \n",
       "5               0.009107               0.086866  \n",
       "6               0.009008               0.095874  \n",
       "7               0.007110               0.102984  \n",
       "8               0.006693               0.109677  \n",
       "9               0.006506               0.116184  "
      ]
     },
     "execution_count": 13,
     "metadata": {},
     "output_type": "execute_result"
    }
   ],
   "source": [
    "fs.feature_importances.head(10)\n"
   ]
  },
  {
   "cell_type": "code",
   "execution_count": 14,
   "metadata": {},
   "outputs": [
    {
     "data": {
      "text/plain": [
       "100"
      ]
     },
     "execution_count": 14,
     "metadata": {},
     "output_type": "execute_result"
    }
   ],
   "source": [
    "one_hundred_features = list(fs.feature_importances.loc[:99, 'feature'])\n",
    "len(one_hundred_features)"
   ]
  },
  {
   "cell_type": "markdown",
   "metadata": {},
   "source": [
    "Low Importance Features"
   ]
  },
  {
   "cell_type": "code",
   "execution_count": 15,
   "metadata": {},
   "outputs": [
    {
     "name": "stdout",
     "output_type": "stream",
     "text": [
      "650 features required for cumulative importance of 0.99 after one hot encoding.\n",
      "149 features do not contribute to cumulative importance of 0.99.\n",
      "\n"
     ]
    }
   ],
   "source": [
    "fs.identify_low_importance(cumulative_importance = 0.99)\n"
   ]
  },
  {
   "cell_type": "code",
   "execution_count": 16,
   "metadata": {},
   "outputs": [
    {
     "data": {
      "text/plain": [
       "['new_cardf_subsector_id_day_nunique_pct_35',\n",
       " 'hist_cardf_card_id_month_lag_min',\n",
       " 'hist_cardf_month_lag_cnt_pivot_-10',\n",
       " 'hist_levelAB_purchase_date_floorday_merchant_id_nunique_max',\n",
       " 'new_cardf_subsector_id_day_nunique_pct_18']"
      ]
     },
     "execution_count": 16,
     "metadata": {},
     "output_type": "execute_result"
    }
   ],
   "source": [
    "low_importance_features = fs.ops['low_importance']\n",
    "low_importance_features[:5]"
   ]
  },
  {
   "cell_type": "markdown",
   "metadata": {},
   "source": [
    "Remove Variables"
   ]
  },
  {
   "cell_type": "code",
   "execution_count": 17,
   "metadata": {},
   "outputs": [
    {
     "name": "stdout",
     "output_type": "stream",
     "text": [
      "Removed 4 features.\n"
     ]
    }
   ],
   "source": [
    "train_no_missing = fs.remove(methods = ['missing'])\n"
   ]
  },
  {
   "cell_type": "code",
   "execution_count": 18,
   "metadata": {},
   "outputs": [
    {
     "name": "stdout",
     "output_type": "stream",
     "text": [
      "Removed 52 features.\n"
     ]
    }
   ],
   "source": [
    "train_no_missing_zero = fs.remove(methods = ['missing', 'zero_importance'])\n"
   ]
  },
  {
   "cell_type": "code",
   "execution_count": 19,
   "metadata": {},
   "outputs": [
    {
     "name": "stdout",
     "output_type": "stream",
     "text": [
      "Total of 149 features identified for removal\n"
     ]
    }
   ],
   "source": [
    "all_to_remove = fs.check_removal()"
   ]
  },
  {
   "cell_type": "code",
   "execution_count": 20,
   "metadata": {},
   "outputs": [
    {
     "data": {
      "text/plain": [
       "['auth_cardf_card_id_month_lag_nunique',\n",
       " 'hist_last2_subsector_id_day_nunique_pct_-1',\n",
       " 'auth_cardf_category_2_cnt_pivot_4.0',\n",
       " 'new_cardf_subsector_id_day_nunique_pct_12',\n",
       " 'new_year_nunique',\n",
       " 'new_card_id_count',\n",
       " 'hist_cardf_card_id_month_lag_min',\n",
       " 'auth_card_id_count',\n",
       " 'hist_levelAB_merchant_id_count_mean',\n",
       " 'new_cardf_card_id_cnt_divide_merchant_id_nunique',\n",
       " 'new_cardf_subsector_id_day_nunique_pct_30',\n",
       " 'auth_cardf_card_id_purchase_amount_max',\n",
       " 'new_cardf_card_id_category_1_nunique',\n",
       " 'hist_card_id_count',\n",
       " 'new_cardf_subsector_id_day_nunique_pct_9',\n",
       " 'new_installments_min',\n",
       " 'auth_cardf_month_lag_cnt_pivot_-13',\n",
       " 'auth_cardf_card_id_category_1_nunique',\n",
       " 'feature_3',\n",
       " 'new_cardf_subsector_id_day_nunique_pct_10',\n",
       " 'auth_cardf_subsector_id_day_nunique_pct_4',\n",
       " 'hist_levelAB_merchant_category_id_count_mean',\n",
       " 'new_cardf_subsector_id_day_nunique_pct_26',\n",
       " 'new_cardf_card_id_purchase_amount_mean']"
      ]
     },
     "execution_count": 20,
     "metadata": {},
     "output_type": "execute_result"
    }
   ],
   "source": [
    "all_to_remove[1:25]\n"
   ]
  },
  {
   "cell_type": "code",
   "execution_count": 21,
   "metadata": {},
   "outputs": [],
   "source": [
    "train = train.drop(columns=all_to_remove)\n",
    "test = test.drop(columns=all_to_remove)"
   ]
  },
  {
   "cell_type": "code",
   "execution_count": 22,
   "metadata": {},
   "outputs": [
    {
     "name": "stderr",
     "output_type": "stream",
     "text": [
      "/var/folders/tp/twg0lnts57q27bccjryrlk2w0000gn/T/ipykernel_19000/823882552.py:1: PerformanceWarning: DataFrame is highly fragmented.  This is usually the result of calling `frame.insert` many times, which has poor performance.  Consider joining all columns at once using pd.concat(axis=1) instead. To get a de-fragmented frame, use `newframe = frame.copy()`\n",
      "  train['target'] = train_labels\n"
     ]
    }
   ],
   "source": [
    "train['target'] = train_labels\n",
    "train['card_id'] = cardids"
   ]
  },
  {
   "cell_type": "code",
   "execution_count": 23,
   "metadata": {},
   "outputs": [],
   "source": [
    "train.to_csv(\"train_cleaned.csv\")"
   ]
  },
  {
   "cell_type": "code",
   "execution_count": 24,
   "metadata": {},
   "outputs": [],
   "source": [
    "test.to_csv(\"test_cleaned.csv\")"
   ]
  },
  {
   "cell_type": "code",
   "execution_count": null,
   "metadata": {},
   "outputs": [],
   "source": []
  }
 ],
 "metadata": {
  "kernelspec": {
   "display_name": "Python 3",
   "language": "python",
   "name": "python3"
  },
  "language_info": {
   "codemirror_mode": {
    "name": "ipython",
    "version": 3
   },
   "file_extension": ".py",
   "mimetype": "text/x-python",
   "name": "python",
   "nbconvert_exporter": "python",
   "pygments_lexer": "ipython3",
   "version": "3.11.1"
  }
 },
 "nbformat": 4,
 "nbformat_minor": 2
}
