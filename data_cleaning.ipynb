{
 "cells": [
  {
   "cell_type": "code",
   "metadata": {
    "ExecuteTime": {
     "end_time": "2024-04-25T09:48:09.446288Z",
     "start_time": "2024-04-25T09:48:09.441695Z"
    }
   },
   "source": [
    "import pandas as pd\n",
    "import numpy as np\n",
    "from tqdm import tqdm_notebook as tqdm\n",
    "from sklearn.preprocessing import LabelEncoder\n",
    "import gc\n",
    "import os\n",
    "\n",
    "from sklearn.ensemble import RandomForestRegressor\n",
    "from sklearn.model_selection import KFold\n",
    "from feature_selector import FeatureSelector\n",
    "\n",
    "\n",
    "import time\n",
    "import datetime\n",
    "from sklearn.metrics import mean_squared_error\n",
    "\n",
    "import matplotlib.pyplot as plt \n",
    "import seaborn as sns \n",
    "\n",
    "from feature_selector import FeatureSelector\n",
    "%matplotlib inline\n"
   ],
   "outputs": [],
   "execution_count": 31
  },
  {
   "cell_type": "code",
   "metadata": {
    "ExecuteTime": {
     "end_time": "2024-04-25T09:48:28.614768Z",
     "start_time": "2024-04-25T09:48:09.504089Z"
    }
   },
   "source": [
    "train = pd.read_csv(\"train_dc.csv\")\n",
    "test =pd.read_csv(\"test_dc.csv\")\n",
    "\n",
    "del_cols = []\n",
    "for col in train.columns:\n",
    "    if 'subsector_id_cnt_' in col and 'new_cardf': \n",
    "        del_cols.append(col)\n",
    "del_cols1 = []\n",
    "for col in train.columns:\n",
    "    if 'subsector_id_cnt_' in col and 'hist_last2_' in col:\n",
    "        del_cols1.append(col)\n",
    "del_cols2 = []\n",
    "for col in train.columns:\n",
    "    if 'subsector_id_cnt_' in col and 'auth_cardf' in col:\n",
    "        del_cols2.append(col)\n",
    "del_cols3 = []\n",
    "for col in train.columns:\n",
    "    if 'merchant_category_id_month_lag_nunique_' in col and '_pivot_supp' in col:\n",
    "        del_cols3.append(col)\n",
    "    if 'city_id' in col and '_pivot_supp' in col:\n",
    "        del_cols3.append(col)\n",
    "    if 'month_diff' in col and 'hist_last2_' in col:\n",
    "        del_cols3.append(col)\n",
    "    if 'month_diff_std' in col or 'month_diff_gap' in col:\n",
    "        del_cols3.append(col) \n",
    "fea_cols = [col for col in train.columns if train[col].dtypes!='object' and train[col].dtypes != '<M8[ns]' and col!='target' not in col and col!='min_num'\\\n",
    "            and col not in del_cols and col not in del_cols1 and col not in del_cols2 and col!='target1' and col!='card_id_cnt_ht_pivot_supp'  and col not in del_cols3] \n",
    "cardids = train['card_id']\n",
    "test_cardids = test['card_id']\n",
    "train = train[fea_cols+['target']]\n",
    "fea_cols.remove('outliers')\n",
    "test = test[fea_cols]"
   ],
   "outputs": [],
   "execution_count": 32
  },
  {
   "cell_type": "code",
   "metadata": {
    "ExecuteTime": {
     "end_time": "2024-04-25T09:48:28.676656Z",
     "start_time": "2024-04-25T09:48:28.615957Z"
    }
   },
   "source": [
    "train_labels = train['target'].values\n",
    "del train['target']\n",
    "fs = FeatureSelector(data = train, labels = train_labels)\n"
   ],
   "outputs": [],
   "execution_count": 33
  },
  {
   "cell_type": "markdown",
   "metadata": {},
   "source": [
    "Identify features with missing values >60%"
   ]
  },
  {
   "cell_type": "code",
   "metadata": {
    "ExecuteTime": {
     "end_time": "2024-04-25T09:48:28.812279Z",
     "start_time": "2024-04-25T09:48:28.677540Z"
    }
   },
   "source": [
    "fs.identify_missing(missing_threshold=0.6)\n"
   ],
   "outputs": [
    {
     "name": "stdout",
     "output_type": "stream",
     "text": [
      "4 features with greater than 0.60 missing values.\n",
      "\n"
     ]
    }
   ],
   "execution_count": 34
  },
  {
   "cell_type": "code",
   "metadata": {
    "ExecuteTime": {
     "end_time": "2024-04-25T09:48:28.816753Z",
     "start_time": "2024-04-25T09:48:28.813980Z"
    }
   },
   "source": [
    "missing_features = fs.ops['missing']\n",
    "missing_features[:10]"
   ],
   "outputs": [
    {
     "data": {
      "text/plain": [
       "['new_cardf_card_id_part_cnt',\n",
       " 'new_cardf_card_id_part_purchase_amount_sum',\n",
       " 'new_cardf_card_id_part_purchase_amount_mean',\n",
       " 'new_cardf_card_id_part_purchase_amount_sum_percent']"
      ]
     },
     "execution_count": 35,
     "metadata": {},
     "output_type": "execute_result"
    }
   ],
   "execution_count": 35
  },
  {
   "cell_type": "code",
   "metadata": {
    "ExecuteTime": {
     "end_time": "2024-04-25T09:48:28.943059Z",
     "start_time": "2024-04-25T09:48:28.817778Z"
    }
   },
   "source": [
    "fs.plot_missing()\n"
   ],
   "outputs": [
    {
     "data": {
      "text/plain": [
       "<Figure size 700x500 with 1 Axes>"
      ],
      "image/png": "[encoded data removed]"
     },
     "metadata": {},
     "output_type": "display_data"
    }
   ],
   "execution_count": 36
  },
  {
   "cell_type": "code",
   "metadata": {
    "ExecuteTime": {
     "end_time": "2024-04-25T09:48:28.949487Z",
     "start_time": "2024-04-25T09:48:28.944104Z"
    }
   },
   "source": [
    "fs.missing_stats"
   ],
   "outputs": [
    {
     "data": {
      "text/plain": [
       "                                                    missing_fraction\n",
       "new_cardf_card_id_part_purchase_amount_sum_percent          1.000000\n",
       "new_cardf_card_id_part_purchase_amount_mean                 1.000000\n",
       "new_cardf_card_id_part_purchase_amount_sum                  1.000000\n",
       "new_cardf_card_id_part_cnt                                  1.000000\n",
       "new_amount_month_ratio_skew                                 0.355933\n",
       "...                                                              ...\n",
       "hist_cardf_card_id_month_lag_nunique                        0.000000\n",
       "hist_cardf_card_id_cnt_divide_month_lag_nunique             0.000000\n",
       "hist_cardf_card_id_purchase_date_floorday_nunique           0.000000\n",
       "hist_cardf_card_id_cnt_divide_purchase_date_flo...          0.000000\n",
       "hist_cardf_month_lag_cnt_pivot_0                            0.000000\n",
       "\n",
       "[799 rows x 1 columns]"
      ],
      "text/html": [
       "<div>\n",
       "<style scoped>\n",
       "    .dataframe tbody tr th:only-of-type {\n",
       "        vertical-align: middle;\n",
       "    }\n",
       "\n",
       "    .dataframe tbody tr th {\n",
       "        vertical-align: top;\n",
       "    }\n",
       "\n",
       "    .dataframe thead th {\n",
       "        text-align: right;\n",
       "    }\n",
       "</style>\n",
       "<table border=\"1\" class=\"dataframe\">\n",
       "  <thead>\n",
       "    <tr style=\"text-align: right;\">\n",
       "      <th></th>\n",
       "      <th>missing_fraction</th>\n",
       "    </tr>\n",
       "  </thead>\n",
       "  <tbody>\n",
       "    <tr>\n",
       "      <th>new_cardf_card_id_part_purchase_amount_sum_percent</th>\n",
       "      <td>1.000000</td>\n",
       "    </tr>\n",
       "    <tr>\n",
       "      <th>new_cardf_card_id_part_purchase_amount_mean</th>\n",
       "      <td>1.000000</td>\n",
       "    </tr>\n",
       "    <tr>\n",
       "      <th>new_cardf_card_id_part_purchase_amount_sum</th>\n",
       "      <td>1.000000</td>\n",
       "    </tr>\n",
       "    <tr>\n",
       "      <th>new_cardf_card_id_part_cnt</th>\n",
       "      <td>1.000000</td>\n",
       "    </tr>\n",
       "    <tr>\n",
       "      <th>new_amount_month_ratio_skew</th>\n",
       "      <td>0.355933</td>\n",
       "    </tr>\n",
       "    <tr>\n",
       "      <th>...</th>\n",
       "      <td>...</td>\n",
       "    </tr>\n",
       "    <tr>\n",
       "      <th>hist_cardf_card_id_month_lag_nunique</th>\n",
       "      <td>0.000000</td>\n",
       "    </tr>\n",
       "    <tr>\n",
       "      <th>hist_cardf_card_id_cnt_divide_month_lag_nunique</th>\n",
       "      <td>0.000000</td>\n",
       "    </tr>\n",
       "    <tr>\n",
       "      <th>hist_cardf_card_id_purchase_date_floorday_nunique</th>\n",
       "      <td>0.000000</td>\n",
       "    </tr>\n",
       "    <tr>\n",
       "      <th>hist_cardf_card_id_cnt_divide_purchase_date_floorday_nunique</th>\n",
       "      <td>0.000000</td>\n",
       "    </tr>\n",
       "    <tr>\n",
       "      <th>hist_cardf_month_lag_cnt_pivot_0</th>\n",
       "      <td>0.000000</td>\n",
       "    </tr>\n",
       "  </tbody>\n",
       "</table>\n",
       "<p>799 rows × 1 columns</p>\n",
       "</div>"
      ]
     },
     "execution_count": 37,
     "metadata": {},
     "output_type": "execute_result"
    }
   ],
   "execution_count": 37
  },
  {
   "cell_type": "markdown",
   "metadata": {},
   "source": [
    "Zero Importance Features\n"
   ]
  },
  {
   "cell_type": "code",
   "metadata": {
    "ExecuteTime": {
     "end_time": "2024-04-25T09:52:37.652444Z",
     "start_time": "2024-04-25T09:48:28.950617Z"
    }
   },
   "source": [
    "fs.identify_zero_importance(task = 'regression', eval_metric = 'auc', \n",
    "                            n_iterations = 5, early_stopping = True)"
   ],
   "outputs": [
    {
     "name": "stdout",
     "output_type": "stream",
     "text": [
      "Training Gradient Boosting Model\n",
      "\n",
      "[LightGBM] [Info] Auto-choosing col-wise multi-threading, the overhead of testing was 0.688632 seconds.\n",
      "You can set `force_col_wise=true` to remove the overhead.\n",
      "[LightGBM] [Info] Total Bins 149177\n",
      "[LightGBM] [Info] Number of data points in the train set: 161533, number of used features: 795\n",
      "[LightGBM] [Info] Start training from score -0.396920\n",
      "Training until validation scores don't improve for 500 rounds\n",
      "[200]\tvalid_0's auc: 0.693391\tvalid_0's l2: 2.35335\n",
      "[400]\tvalid_0's auc: 0.694037\tvalid_0's l2: 2.35471\n",
      "[600]\tvalid_0's auc: 0.694496\tvalid_0's l2: 2.356\n",
      "Early stopping, best iteration is:\n",
      "[255]\tvalid_0's auc: 0.693755\tvalid_0's l2: 2.35221\n",
      "[LightGBM] [Info] Auto-choosing col-wise multi-threading, the overhead of testing was 0.686500 seconds.\n",
      "You can set `force_col_wise=true` to remove the overhead.\n",
      "[LightGBM] [Info] Total Bins 149242\n",
      "[LightGBM] [Info] Number of data points in the train set: 161533, number of used features: 795\n",
      "[LightGBM] [Info] Start training from score -0.399218\n",
      "Training until validation scores don't improve for 500 rounds\n",
      "[200]\tvalid_0's auc: 0.692584\tvalid_0's l2: 2.36244\n",
      "[400]\tvalid_0's auc: 0.692345\tvalid_0's l2: 2.36301\n",
      "[600]\tvalid_0's auc: 0.692097\tvalid_0's l2: 2.36557\n",
      "Early stopping, best iteration is:\n",
      "[225]\tvalid_0's auc: 0.692722\tvalid_0's l2: 2.36128\n",
      "[LightGBM] [Info] Auto-choosing col-wise multi-threading, the overhead of testing was 0.636692 seconds.\n",
      "You can set `force_col_wise=true` to remove the overhead.\n",
      "[LightGBM] [Info] Total Bins 149376\n",
      "[LightGBM] [Info] Number of data points in the train set: 161533, number of used features: 795\n",
      "[LightGBM] [Info] Start training from score -0.388164\n",
      "Training until validation scores don't improve for 500 rounds\n",
      "[200]\tvalid_0's auc: 0.690865\tvalid_0's l2: 2.37929\n",
      "[400]\tvalid_0's auc: 0.691076\tvalid_0's l2: 2.37926\n",
      "[600]\tvalid_0's auc: 0.690848\tvalid_0's l2: 2.38131\n",
      "[800]\tvalid_0's auc: 0.690283\tvalid_0's l2: 2.38596\n",
      "Early stopping, best iteration is:\n",
      "[342]\tvalid_0's auc: 0.691134\tvalid_0's l2: 2.37855\n",
      "[LightGBM] [Info] Auto-choosing col-wise multi-threading, the overhead of testing was 0.879710 seconds.\n",
      "You can set `force_col_wise=true` to remove the overhead.\n",
      "[LightGBM] [Info] Total Bins 149320\n",
      "[LightGBM] [Info] Number of data points in the train set: 161533, number of used features: 795\n",
      "[LightGBM] [Info] Start training from score -0.396234\n",
      "Training until validation scores don't improve for 500 rounds\n",
      "[200]\tvalid_0's auc: 0.6915\tvalid_0's l2: 2.45764\n",
      "[400]\tvalid_0's auc: 0.691714\tvalid_0's l2: 2.45641\n",
      "[600]\tvalid_0's auc: 0.691795\tvalid_0's l2: 2.4583\n",
      "[800]\tvalid_0's auc: 0.691828\tvalid_0's l2: 2.46073\n",
      "Early stopping, best iteration is:\n",
      "[386]\tvalid_0's auc: 0.691786\tvalid_0's l2: 2.45592\n",
      "[LightGBM] [Info] Auto-choosing col-wise multi-threading, the overhead of testing was 0.681967 seconds.\n",
      "You can set `force_col_wise=true` to remove the overhead.\n",
      "[LightGBM] [Info] Total Bins 149288\n",
      "[LightGBM] [Info] Number of data points in the train set: 161533, number of used features: 795\n",
      "[LightGBM] [Info] Start training from score -0.395387\n",
      "Training until validation scores don't improve for 500 rounds\n",
      "[200]\tvalid_0's auc: 0.688945\tvalid_0's l2: 2.43466\n",
      "[400]\tvalid_0's auc: 0.68894\tvalid_0's l2: 2.43325\n",
      "[600]\tvalid_0's auc: 0.689149\tvalid_0's l2: 2.43452\n",
      "Early stopping, best iteration is:\n",
      "[285]\tvalid_0's auc: 0.689086\tvalid_0's l2: 2.43233\n",
      "\n",
      "63 features with zero or negative importance after one-hot encoding.\n",
      "\n"
     ]
    }
   ],
   "execution_count": 38
  },
  {
   "cell_type": "code",
   "metadata": {
    "ExecuteTime": {
     "end_time": "2024-04-25T09:52:37.656065Z",
     "start_time": "2024-04-25T09:52:37.653412Z"
    }
   },
   "source": [
    "one_hot_features = fs.one_hot_features\n",
    "base_features = fs.base_features\n",
    "print('There are %d original features' % len(base_features))\n",
    "print('There are %d one-hot features' % len(one_hot_features))"
   ],
   "outputs": [
    {
     "name": "stdout",
     "output_type": "stream",
     "text": [
      "There are 799 original features\n",
      "There are 0 one-hot features\n"
     ]
    }
   ],
   "execution_count": 39
  },
  {
   "cell_type": "code",
   "metadata": {
    "ExecuteTime": {
     "end_time": "2024-04-25T09:52:37.668983Z",
     "start_time": "2024-04-25T09:52:37.657051Z"
    }
   },
   "source": [
    "fs.data_all.head(10)\n"
   ],
   "outputs": [
    {
     "data": {
      "text/plain": [
       "   Unnamed: 0  feature_1  feature_2  feature_3  year  elapsed_time  \\\n",
       "0           0          5          2          1  2017           273   \n",
       "1           1          4          1          0  2017           424   \n",
       "2           2          2          2          0  2016           577   \n",
       "3           3          4          3          0  2017           181   \n",
       "4           4          1          3          0  2017           120   \n",
       "5           5          4          2          0  2016           546   \n",
       "6           6          3          2          1  2016           455   \n",
       "7           7          3          2          1  2017           181   \n",
       "8           8          2          1          0  2017           212   \n",
       "9           9          2          2          0  2016           577   \n",
       "\n",
       "   weekofyear  dayofyear  month  auth_category_1_mean  ...  \\\n",
       "0          22        152      6              0.000000  ...   \n",
       "1          52          1      1              0.085546  ...   \n",
       "2          31        214      8              0.000000  ...   \n",
       "3          35        244      9              0.155844  ...   \n",
       "4          44        305     11              0.093750  ...   \n",
       "5          35        245      9              0.031250  ...   \n",
       "6          48        336     12              0.000000  ...   \n",
       "7          35        244      9              0.000000  ...   \n",
       "8          31        213      8              0.000000  ...   \n",
       "9          31        214      8              0.000000  ...   \n",
       "\n",
       "   purchase_amount_ratio_v3  purchase_amount_diff_sum  \\\n",
       "0                  0.396301                    1860.0   \n",
       "1                  0.006356                   -4636.0   \n",
       "2                  0.300971                     -72.0   \n",
       "3                       NaN                       NaN   \n",
       "4                  0.049716                  -11397.0   \n",
       "5                  5.522222                     966.0   \n",
       "6                  0.133106                    -205.0   \n",
       "7                  0.253846                     -35.0   \n",
       "8                       inf                     154.0   \n",
       "9                  0.048301                   -1051.0   \n",
       "\n",
       "   purchase_amount_diff_mean  purchase_amount_diff_max  \\\n",
       "0                  55.551838                      90.0   \n",
       "1                -415.090900                   -1760.0   \n",
       "2                 -20.500000                     -42.0   \n",
       "3                        NaN                       NaN   \n",
       "4               -3077.477800                   -4487.0   \n",
       "5                 174.000000                     407.0   \n",
       "6                   0.364706                      -7.0   \n",
       "7                 -11.666666                     -32.0   \n",
       "8                  77.000000                     111.0   \n",
       "9                 -57.523804                    -158.0   \n",
       "\n",
       "   purchase_amount_diff_min  pa_mlag_ratio  pa_new_hist_ratio  \\\n",
       "0                       9.0    -479.169014           3.457067   \n",
       "1                       1.0     -15.400000           0.017797   \n",
       "2                       1.0      -2.583333           0.300971   \n",
       "3                       NaN            NaN                NaN   \n",
       "4                    -151.0   -3310.000000           0.289065   \n",
       "5                     -29.0    -528.000000          11.733334   \n",
       "6                      -2.0     -10.108108           0.300341   \n",
       "7                      29.0     -31.666667           0.730769   \n",
       "8                      43.0     -25.666667                inf   \n",
       "9                      -6.0     -12.506667           0.059928   \n",
       "\n",
       "   pa_new_hist_mean_ratio  pa_new_hist_min_ratio  pa_new_hist_max_ratio  \n",
       "0                1.953995               2.500000               1.428572  \n",
       "1                0.032627               1.250000               0.016760  \n",
       "2                0.601942               1.033333               0.424658  \n",
       "3                     NaN                    NaN                    NaN  \n",
       "4                0.040148               0.032051               0.150833  \n",
       "5                2.933333               0.677778               5.522222  \n",
       "6                1.021160               0.600000               0.847826  \n",
       "7                0.730769              30.000000               0.507692  \n",
       "8                     inf                    inf                    inf  \n",
       "9                0.279666               0.333333               0.254717  \n",
       "\n",
       "[10 rows x 799 columns]"
      ],
      "text/html": [
       "<div>\n",
       "<style scoped>\n",
       "    .dataframe tbody tr th:only-of-type {\n",
       "        vertical-align: middle;\n",
       "    }\n",
       "\n",
       "    .dataframe tbody tr th {\n",
       "        vertical-align: top;\n",
       "    }\n",
       "\n",
       "    .dataframe thead th {\n",
       "        text-align: right;\n",
       "    }\n",
       "</style>\n",
       "<table border=\"1\" class=\"dataframe\">\n",
       "  <thead>\n",
       "    <tr style=\"text-align: right;\">\n",
       "      <th></th>\n",
       "      <th>Unnamed: 0</th>\n",
       "      <th>feature_1</th>\n",
       "      <th>feature_2</th>\n",
       "      <th>feature_3</th>\n",
       "      <th>year</th>\n",
       "      <th>elapsed_time</th>\n",
       "      <th>weekofyear</th>\n",
       "      <th>dayofyear</th>\n",
       "      <th>month</th>\n",
       "      <th>auth_category_1_mean</th>\n",
       "      <th>...</th>\n",
       "      <th>purchase_amount_ratio_v3</th>\n",
       "      <th>purchase_amount_diff_sum</th>\n",
       "      <th>purchase_amount_diff_mean</th>\n",
       "      <th>purchase_amount_diff_max</th>\n",
       "      <th>purchase_amount_diff_min</th>\n",
       "      <th>pa_mlag_ratio</th>\n",
       "      <th>pa_new_hist_ratio</th>\n",
       "      <th>pa_new_hist_mean_ratio</th>\n",
       "      <th>pa_new_hist_min_ratio</th>\n",
       "      <th>pa_new_hist_max_ratio</th>\n",
       "    </tr>\n",
       "  </thead>\n",
       "  <tbody>\n",
       "    <tr>\n",
       "      <th>0</th>\n",
       "      <td>0</td>\n",
       "      <td>5</td>\n",
       "      <td>2</td>\n",
       "      <td>1</td>\n",
       "      <td>2017</td>\n",
       "      <td>273</td>\n",
       "      <td>22</td>\n",
       "      <td>152</td>\n",
       "      <td>6</td>\n",
       "      <td>0.000000</td>\n",
       "      <td>...</td>\n",
       "      <td>0.396301</td>\n",
       "      <td>1860.0</td>\n",
       "      <td>55.551838</td>\n",
       "      <td>90.0</td>\n",
       "      <td>9.0</td>\n",
       "      <td>-479.169014</td>\n",
       "      <td>3.457067</td>\n",
       "      <td>1.953995</td>\n",
       "      <td>2.500000</td>\n",
       "      <td>1.428572</td>\n",
       "    </tr>\n",
       "    <tr>\n",
       "      <th>1</th>\n",
       "      <td>1</td>\n",
       "      <td>4</td>\n",
       "      <td>1</td>\n",
       "      <td>0</td>\n",
       "      <td>2017</td>\n",
       "      <td>424</td>\n",
       "      <td>52</td>\n",
       "      <td>1</td>\n",
       "      <td>1</td>\n",
       "      <td>0.085546</td>\n",
       "      <td>...</td>\n",
       "      <td>0.006356</td>\n",
       "      <td>-4636.0</td>\n",
       "      <td>-415.090900</td>\n",
       "      <td>-1760.0</td>\n",
       "      <td>1.0</td>\n",
       "      <td>-15.400000</td>\n",
       "      <td>0.017797</td>\n",
       "      <td>0.032627</td>\n",
       "      <td>1.250000</td>\n",
       "      <td>0.016760</td>\n",
       "    </tr>\n",
       "    <tr>\n",
       "      <th>2</th>\n",
       "      <td>2</td>\n",
       "      <td>2</td>\n",
       "      <td>2</td>\n",
       "      <td>0</td>\n",
       "      <td>2016</td>\n",
       "      <td>577</td>\n",
       "      <td>31</td>\n",
       "      <td>214</td>\n",
       "      <td>8</td>\n",
       "      <td>0.000000</td>\n",
       "      <td>...</td>\n",
       "      <td>0.300971</td>\n",
       "      <td>-72.0</td>\n",
       "      <td>-20.500000</td>\n",
       "      <td>-42.0</td>\n",
       "      <td>1.0</td>\n",
       "      <td>-2.583333</td>\n",
       "      <td>0.300971</td>\n",
       "      <td>0.601942</td>\n",
       "      <td>1.033333</td>\n",
       "      <td>0.424658</td>\n",
       "    </tr>\n",
       "    <tr>\n",
       "      <th>3</th>\n",
       "      <td>3</td>\n",
       "      <td>4</td>\n",
       "      <td>3</td>\n",
       "      <td>0</td>\n",
       "      <td>2017</td>\n",
       "      <td>181</td>\n",
       "      <td>35</td>\n",
       "      <td>244</td>\n",
       "      <td>9</td>\n",
       "      <td>0.155844</td>\n",
       "      <td>...</td>\n",
       "      <td>NaN</td>\n",
       "      <td>NaN</td>\n",
       "      <td>NaN</td>\n",
       "      <td>NaN</td>\n",
       "      <td>NaN</td>\n",
       "      <td>NaN</td>\n",
       "      <td>NaN</td>\n",
       "      <td>NaN</td>\n",
       "      <td>NaN</td>\n",
       "      <td>NaN</td>\n",
       "    </tr>\n",
       "    <tr>\n",
       "      <th>4</th>\n",
       "      <td>4</td>\n",
       "      <td>1</td>\n",
       "      <td>3</td>\n",
       "      <td>0</td>\n",
       "      <td>2017</td>\n",
       "      <td>120</td>\n",
       "      <td>44</td>\n",
       "      <td>305</td>\n",
       "      <td>11</td>\n",
       "      <td>0.093750</td>\n",
       "      <td>...</td>\n",
       "      <td>0.049716</td>\n",
       "      <td>-11397.0</td>\n",
       "      <td>-3077.477800</td>\n",
       "      <td>-4487.0</td>\n",
       "      <td>-151.0</td>\n",
       "      <td>-3310.000000</td>\n",
       "      <td>0.289065</td>\n",
       "      <td>0.040148</td>\n",
       "      <td>0.032051</td>\n",
       "      <td>0.150833</td>\n",
       "    </tr>\n",
       "    <tr>\n",
       "      <th>5</th>\n",
       "      <td>5</td>\n",
       "      <td>4</td>\n",
       "      <td>2</td>\n",
       "      <td>0</td>\n",
       "      <td>2016</td>\n",
       "      <td>546</td>\n",
       "      <td>35</td>\n",
       "      <td>245</td>\n",
       "      <td>9</td>\n",
       "      <td>0.031250</td>\n",
       "      <td>...</td>\n",
       "      <td>5.522222</td>\n",
       "      <td>966.0</td>\n",
       "      <td>174.000000</td>\n",
       "      <td>407.0</td>\n",
       "      <td>-29.0</td>\n",
       "      <td>-528.000000</td>\n",
       "      <td>11.733334</td>\n",
       "      <td>2.933333</td>\n",
       "      <td>0.677778</td>\n",
       "      <td>5.522222</td>\n",
       "    </tr>\n",
       "    <tr>\n",
       "      <th>6</th>\n",
       "      <td>6</td>\n",
       "      <td>3</td>\n",
       "      <td>2</td>\n",
       "      <td>1</td>\n",
       "      <td>2016</td>\n",
       "      <td>455</td>\n",
       "      <td>48</td>\n",
       "      <td>336</td>\n",
       "      <td>12</td>\n",
       "      <td>0.000000</td>\n",
       "      <td>...</td>\n",
       "      <td>0.133106</td>\n",
       "      <td>-205.0</td>\n",
       "      <td>0.364706</td>\n",
       "      <td>-7.0</td>\n",
       "      <td>-2.0</td>\n",
       "      <td>-10.108108</td>\n",
       "      <td>0.300341</td>\n",
       "      <td>1.021160</td>\n",
       "      <td>0.600000</td>\n",
       "      <td>0.847826</td>\n",
       "    </tr>\n",
       "    <tr>\n",
       "      <th>7</th>\n",
       "      <td>7</td>\n",
       "      <td>3</td>\n",
       "      <td>2</td>\n",
       "      <td>1</td>\n",
       "      <td>2017</td>\n",
       "      <td>181</td>\n",
       "      <td>35</td>\n",
       "      <td>244</td>\n",
       "      <td>9</td>\n",
       "      <td>0.000000</td>\n",
       "      <td>...</td>\n",
       "      <td>0.253846</td>\n",
       "      <td>-35.0</td>\n",
       "      <td>-11.666666</td>\n",
       "      <td>-32.0</td>\n",
       "      <td>29.0</td>\n",
       "      <td>-31.666667</td>\n",
       "      <td>0.730769</td>\n",
       "      <td>0.730769</td>\n",
       "      <td>30.000000</td>\n",
       "      <td>0.507692</td>\n",
       "    </tr>\n",
       "    <tr>\n",
       "      <th>8</th>\n",
       "      <td>8</td>\n",
       "      <td>2</td>\n",
       "      <td>1</td>\n",
       "      <td>0</td>\n",
       "      <td>2017</td>\n",
       "      <td>212</td>\n",
       "      <td>31</td>\n",
       "      <td>213</td>\n",
       "      <td>8</td>\n",
       "      <td>0.000000</td>\n",
       "      <td>...</td>\n",
       "      <td>inf</td>\n",
       "      <td>154.0</td>\n",
       "      <td>77.000000</td>\n",
       "      <td>111.0</td>\n",
       "      <td>43.0</td>\n",
       "      <td>-25.666667</td>\n",
       "      <td>inf</td>\n",
       "      <td>inf</td>\n",
       "      <td>inf</td>\n",
       "      <td>inf</td>\n",
       "    </tr>\n",
       "    <tr>\n",
       "      <th>9</th>\n",
       "      <td>9</td>\n",
       "      <td>2</td>\n",
       "      <td>2</td>\n",
       "      <td>0</td>\n",
       "      <td>2016</td>\n",
       "      <td>577</td>\n",
       "      <td>31</td>\n",
       "      <td>214</td>\n",
       "      <td>8</td>\n",
       "      <td>0.000000</td>\n",
       "      <td>...</td>\n",
       "      <td>0.048301</td>\n",
       "      <td>-1051.0</td>\n",
       "      <td>-57.523804</td>\n",
       "      <td>-158.0</td>\n",
       "      <td>-6.0</td>\n",
       "      <td>-12.506667</td>\n",
       "      <td>0.059928</td>\n",
       "      <td>0.279666</td>\n",
       "      <td>0.333333</td>\n",
       "      <td>0.254717</td>\n",
       "    </tr>\n",
       "  </tbody>\n",
       "</table>\n",
       "<p>10 rows × 799 columns</p>\n",
       "</div>"
      ]
     },
     "execution_count": 40,
     "metadata": {},
     "output_type": "execute_result"
    }
   ],
   "execution_count": 40
  },
  {
   "cell_type": "code",
   "metadata": {
    "ExecuteTime": {
     "end_time": "2024-04-25T09:52:37.674648Z",
     "start_time": "2024-04-25T09:52:37.671756Z"
    }
   },
   "source": [
    "zero_importance_features = fs.ops['zero_importance']\n",
    "zero_importance_features[10:15]"
   ],
   "outputs": [
    {
     "data": {
      "text/plain": [
       "['hist_cardf_month_diff_median',\n",
       " 'new_cardf_category_1_cnt_pivot_1',\n",
       " 'hist_cardf_card_id_isau_sum',\n",
       " 'hist_levelAB_subsector_id_count_mean',\n",
       " 'auth_cardf_subsector_id_day_nunique_pct_13']"
      ]
     },
     "execution_count": 41,
     "metadata": {},
     "output_type": "execute_result"
    }
   ],
   "execution_count": 41
  },
  {
   "cell_type": "code",
   "metadata": {
    "ExecuteTime": {
     "end_time": "2024-04-25T09:52:37.973151Z",
     "start_time": "2024-04-25T09:52:37.675829Z"
    }
   },
   "source": [
    "fs.plot_feature_importances(threshold = 0.99, plot_n = 12)"
   ],
   "outputs": [
    {
     "data": {
      "text/plain": [
       "<Figure size 1000x600 with 1 Axes>"
      ],
      "image/png": "[encoded data removed]"
     },
     "metadata": {},
     "output_type": "display_data"
    },
    {
     "data": {
      "text/plain": [
       "<Figure size 600x400 with 1 Axes>"
      ],
      "image/png": "[encoded data removed]"
     },
     "metadata": {},
     "output_type": "display_data"
    },
    {
     "name": "stdout",
     "output_type": "stream",
     "text": [
      "646 features required for 0.99 of cumulative importance\n"
     ]
    }
   ],
   "execution_count": 42
  },
  {
   "cell_type": "code",
   "metadata": {
    "ExecuteTime": {
     "end_time": "2024-04-25T09:52:37.979609Z",
     "start_time": "2024-04-25T09:52:37.973973Z"
    }
   },
   "source": [
    "fs.feature_importances.head(10)\n"
   ],
   "outputs": [
    {
     "data": {
      "text/plain": [
       "                                             feature  importance  \\\n",
       "0                              purchase_amount_ratio       260.2   \n",
       "1  hist_cardf_card_id_cnt_divide_merchant_id_nunique       112.2   \n",
       "2                                           outliers       110.8   \n",
       "3                                            new_CLV       106.0   \n",
       "4                              new_purchase_date_max        94.8   \n",
       "5                new_cardf_reference_day_to_last_day        84.2   \n",
       "6               new_cardf_reference_day_to_first_day        83.0   \n",
       "7                                 new_weekofyear_std        63.4   \n",
       "8             auth_cardf_purchase_amount_25_quantile        59.2   \n",
       "9          hist_last2_card_id_purchase_amount_median        58.8   \n",
       "\n",
       "   normalized_importance  cumulative_importance  \n",
       "0               0.029047               0.029047  \n",
       "1               0.012525               0.041572  \n",
       "2               0.012369               0.053941  \n",
       "3               0.011833               0.065774  \n",
       "4               0.010583               0.076356  \n",
       "5               0.009399               0.085756  \n",
       "6               0.009265               0.095021  \n",
       "7               0.007077               0.102099  \n",
       "8               0.006609               0.108707  \n",
       "9               0.006564               0.115271  "
      ],
      "text/html": [
       "<div>\n",
       "<style scoped>\n",
       "    .dataframe tbody tr th:only-of-type {\n",
       "        vertical-align: middle;\n",
       "    }\n",
       "\n",
       "    .dataframe tbody tr th {\n",
       "        vertical-align: top;\n",
       "    }\n",
       "\n",
       "    .dataframe thead th {\n",
       "        text-align: right;\n",
       "    }\n",
       "</style>\n",
       "<table border=\"1\" class=\"dataframe\">\n",
       "  <thead>\n",
       "    <tr style=\"text-align: right;\">\n",
       "      <th></th>\n",
       "      <th>feature</th>\n",
       "      <th>importance</th>\n",
       "      <th>normalized_importance</th>\n",
       "      <th>cumulative_importance</th>\n",
       "    </tr>\n",
       "  </thead>\n",
       "  <tbody>\n",
       "    <tr>\n",
       "      <th>0</th>\n",
       "      <td>purchase_amount_ratio</td>\n",
       "      <td>260.2</td>\n",
       "      <td>0.029047</td>\n",
       "      <td>0.029047</td>\n",
       "    </tr>\n",
       "    <tr>\n",
       "      <th>1</th>\n",
       "      <td>hist_cardf_card_id_cnt_divide_merchant_id_nunique</td>\n",
       "      <td>112.2</td>\n",
       "      <td>0.012525</td>\n",
       "      <td>0.041572</td>\n",
       "    </tr>\n",
       "    <tr>\n",
       "      <th>2</th>\n",
       "      <td>outliers</td>\n",
       "      <td>110.8</td>\n",
       "      <td>0.012369</td>\n",
       "      <td>0.053941</td>\n",
       "    </tr>\n",
       "    <tr>\n",
       "      <th>3</th>\n",
       "      <td>new_CLV</td>\n",
       "      <td>106.0</td>\n",
       "      <td>0.011833</td>\n",
       "      <td>0.065774</td>\n",
       "    </tr>\n",
       "    <tr>\n",
       "      <th>4</th>\n",
       "      <td>new_purchase_date_max</td>\n",
       "      <td>94.8</td>\n",
       "      <td>0.010583</td>\n",
       "      <td>0.076356</td>\n",
       "    </tr>\n",
       "    <tr>\n",
       "      <th>5</th>\n",
       "      <td>new_cardf_reference_day_to_last_day</td>\n",
       "      <td>84.2</td>\n",
       "      <td>0.009399</td>\n",
       "      <td>0.085756</td>\n",
       "    </tr>\n",
       "    <tr>\n",
       "      <th>6</th>\n",
       "      <td>new_cardf_reference_day_to_first_day</td>\n",
       "      <td>83.0</td>\n",
       "      <td>0.009265</td>\n",
       "      <td>0.095021</td>\n",
       "    </tr>\n",
       "    <tr>\n",
       "      <th>7</th>\n",
       "      <td>new_weekofyear_std</td>\n",
       "      <td>63.4</td>\n",
       "      <td>0.007077</td>\n",
       "      <td>0.102099</td>\n",
       "    </tr>\n",
       "    <tr>\n",
       "      <th>8</th>\n",
       "      <td>auth_cardf_purchase_amount_25_quantile</td>\n",
       "      <td>59.2</td>\n",
       "      <td>0.006609</td>\n",
       "      <td>0.108707</td>\n",
       "    </tr>\n",
       "    <tr>\n",
       "      <th>9</th>\n",
       "      <td>hist_last2_card_id_purchase_amount_median</td>\n",
       "      <td>58.8</td>\n",
       "      <td>0.006564</td>\n",
       "      <td>0.115271</td>\n",
       "    </tr>\n",
       "  </tbody>\n",
       "</table>\n",
       "</div>"
      ]
     },
     "execution_count": 43,
     "metadata": {},
     "output_type": "execute_result"
    }
   ],
   "execution_count": 43
  },
  {
   "cell_type": "code",
   "metadata": {
    "ExecuteTime": {
     "end_time": "2024-04-25T09:52:37.983999Z",
     "start_time": "2024-04-25T09:52:37.980640Z"
    }
   },
   "source": [
    "one_hundred_features = list(fs.feature_importances.loc[:99, 'feature'])\n",
    "len(one_hundred_features)"
   ],
   "outputs": [
    {
     "data": {
      "text/plain": [
       "100"
      ]
     },
     "execution_count": 44,
     "metadata": {},
     "output_type": "execute_result"
    }
   ],
   "execution_count": 44
  },
  {
   "cell_type": "markdown",
   "metadata": {},
   "source": [
    "Low Importance Features"
   ]
  },
  {
   "cell_type": "code",
   "metadata": {
    "ExecuteTime": {
     "end_time": "2024-04-25T09:52:37.988418Z",
     "start_time": "2024-04-25T09:52:37.985015Z"
    }
   },
   "source": [
    "fs.identify_low_importance(cumulative_importance = 0.99)\n"
   ],
   "outputs": [
    {
     "name": "stdout",
     "output_type": "stream",
     "text": [
      "645 features required for cumulative importance of 0.99 after one hot encoding.\n",
      "154 features do not contribute to cumulative importance of 0.99.\n",
      "\n"
     ]
    }
   ],
   "execution_count": 45
  },
  {
   "cell_type": "code",
   "metadata": {
    "ExecuteTime": {
     "end_time": "2024-04-25T09:52:37.992602Z",
     "start_time": "2024-04-25T09:52:37.989224Z"
    }
   },
   "source": [
    "low_importance_features = fs.ops['low_importance']\n",
    "low_importance_features[:5]"
   ],
   "outputs": [
    {
     "data": {
      "text/plain": [
       "['hist_cardf_category_1_cnt_pivot_1',\n",
       " 'new_cardf_category_2_cnt_pivot_5.0',\n",
       " 'hist_levelAB_month_lag_subsector_id_nunique_max',\n",
       " 'hist_cardf_category_2_day_nunique_pct_3.0',\n",
       " 'hist_last2_subsector_id_day_nunique_pct_9']"
      ]
     },
     "execution_count": 46,
     "metadata": {},
     "output_type": "execute_result"
    }
   ],
   "execution_count": 46
  },
  {
   "cell_type": "markdown",
   "metadata": {},
   "source": [
    "Remove Variables"
   ]
  },
  {
   "cell_type": "code",
   "metadata": {
    "ExecuteTime": {
     "end_time": "2024-04-25T09:52:38.369268Z",
     "start_time": "2024-04-25T09:52:37.993556Z"
    }
   },
   "source": [
    "train_no_missing = fs.remove(methods = ['missing'])\n"
   ],
   "outputs": [
    {
     "name": "stdout",
     "output_type": "stream",
     "text": [
      "Removed 4 features.\n"
     ]
    }
   ],
   "execution_count": 47
  },
  {
   "cell_type": "code",
   "metadata": {
    "ExecuteTime": {
     "end_time": "2024-04-25T09:52:39.042688Z",
     "start_time": "2024-04-25T09:52:38.372242Z"
    }
   },
   "source": [
    "train_no_missing_zero = fs.remove(methods = ['missing', 'zero_importance'])\n"
   ],
   "outputs": [
    {
     "name": "stdout",
     "output_type": "stream",
     "text": [
      "Removed 63 features.\n"
     ]
    }
   ],
   "execution_count": 48
  },
  {
   "cell_type": "code",
   "metadata": {
    "ExecuteTime": {
     "end_time": "2024-04-25T09:52:39.046792Z",
     "start_time": "2024-04-25T09:52:39.043718Z"
    }
   },
   "source": [
    "all_to_remove = fs.check_removal()"
   ],
   "outputs": [
    {
     "name": "stdout",
     "output_type": "stream",
     "text": [
      "Total of 154 features identified for removal\n"
     ]
    }
   ],
   "execution_count": 49
  },
  {
   "cell_type": "code",
   "metadata": {
    "ExecuteTime": {
     "end_time": "2024-04-25T09:52:39.051321Z",
     "start_time": "2024-04-25T09:52:39.047688Z"
    }
   },
   "source": [
    "all_to_remove[1:25]\n"
   ],
   "outputs": [
    {
     "data": {
      "text/plain": [
       "['new_cardf_card_id_state_id_nunique',\n",
       " 'hist_last2_subsector_id_day_nunique_pct_5',\n",
       " 'hist_last2_category_2_cnt_pivot_4.0',\n",
       " 'new_cardf_subsector_id_day_nunique_pct_13',\n",
       " 'new_cardf_card_id_part_purchase_amount_sum',\n",
       " 'new_cardf_category_2_cnt_pivot_2.0',\n",
       " 'auth_installments_min',\n",
       " 'new_cardf_subsector_id_day_nunique_pct_36',\n",
       " 'new_cardf_card_id_installments_nunique',\n",
       " 'hist_levelAB_subsector_id_count_mean',\n",
       " 'auth_cardf_card_id_purchase_amount_sum',\n",
       " 'new_cardf_subsector_id_day_nunique_pct_17',\n",
       " 'hist_cardf_card_id_category_2_nunique',\n",
       " 'new_cardf_subsector_id_day_nunique_pct_31',\n",
       " 'auth_cardf_subsector_id_day_nunique_pct_23',\n",
       " 'hist_levelAB_purchase_date_floorday_merchant_category_id_nunique_max',\n",
       " 'new_cardf_subsector_id_day_nunique_pct_3',\n",
       " 'year',\n",
       " 'hist_last2_subsector_id_day_nunique_pct_14',\n",
       " 'hist_cardf_category_1_cnt_pivot_1',\n",
       " 'hist_installments_max',\n",
       " 'hist_last2_subsector_id_day_nunique_pct_28',\n",
       " 'new_cardf_category_2_cnt_pivot_1.0',\n",
       " 'new_month_nunique']"
      ]
     },
     "execution_count": 50,
     "metadata": {},
     "output_type": "execute_result"
    }
   ],
   "execution_count": 50
  },
  {
   "cell_type": "code",
   "metadata": {
    "ExecuteTime": {
     "end_time": "2024-04-25T09:52:39.518066Z",
     "start_time": "2024-04-25T09:52:39.052310Z"
    }
   },
   "source": [
    "train = train.drop(columns=all_to_remove)\n",
    "test = test.drop(columns=all_to_remove)"
   ],
   "outputs": [],
   "execution_count": 51
  },
  {
   "cell_type": "code",
   "metadata": {
    "ExecuteTime": {
     "end_time": "2024-04-25T09:52:39.525856Z",
     "start_time": "2024-04-25T09:52:39.518934Z"
    }
   },
   "source": [
    "train['target'] = train_labels\n",
    "train['card_id'] = cardids\n",
    "\n",
    "test['card_id'] = test_cardids"
   ],
   "outputs": [
    {
     "name": "stderr",
     "output_type": "stream",
     "text": [
      "/var/folders/15/zxrjx0b91yngx3vx7r9sbq4h0000gn/T/ipykernel_49728/2973559989.py:1: PerformanceWarning: DataFrame is highly fragmented.  This is usually the result of calling `frame.insert` many times, which has poor performance.  Consider joining all columns at once using pd.concat(axis=1) instead. To get a de-fragmented frame, use `newframe = frame.copy()`\n",
      "  train['target'] = train_labels\n",
      "/var/folders/15/zxrjx0b91yngx3vx7r9sbq4h0000gn/T/ipykernel_49728/2973559989.py:2: PerformanceWarning: DataFrame is highly fragmented.  This is usually the result of calling `frame.insert` many times, which has poor performance.  Consider joining all columns at once using pd.concat(axis=1) instead. To get a de-fragmented frame, use `newframe = frame.copy()`\n",
      "  train['card_id'] = cardids\n"
     ]
    }
   ],
   "execution_count": 52
  },
  {
   "cell_type": "code",
   "metadata": {
    "ExecuteTime": {
     "end_time": "2024-04-25T09:53:59.016210Z",
     "start_time": "2024-04-25T09:52:39.526897Z"
    }
   },
   "source": [
    "train.to_csv(\"train_cleaned.csv\")"
   ],
   "outputs": [],
   "execution_count": 53
  },
  {
   "cell_type": "code",
   "metadata": {
    "ExecuteTime": {
     "end_time": "2024-04-25T09:54:48.843997Z",
     "start_time": "2024-04-25T09:53:59.017190Z"
    }
   },
   "source": [
    "test.to_csv(\"test_cleaned.csv\")"
   ],
   "outputs": [],
   "execution_count": 54
  },
  {
   "cell_type": "code",
   "metadata": {
    "ExecuteTime": {
     "end_time": "2024-04-25T09:54:48.846538Z",
     "start_time": "2024-04-25T09:54:48.845114Z"
    }
   },
   "source": [],
   "outputs": [],
   "execution_count": 54
  }
 ],
 "metadata": {
  "kernelspec": {
   "display_name": "Python 3",
   "language": "python",
   "name": "python3"
  },
  "language_info": {
   "codemirror_mode": {
    "name": "ipython",
    "version": 3
   },
   "file_extension": ".py",
   "mimetype": "text/x-python",
   "name": "python",
   "nbconvert_exporter": "python",
   "pygments_lexer": "ipython3",
   "version": "3.11.1"
  }
 },
 "nbformat": 4,
 "nbformat_minor": 2
}
